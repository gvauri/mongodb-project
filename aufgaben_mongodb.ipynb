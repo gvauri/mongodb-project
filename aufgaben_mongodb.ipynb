{
 "cells": [
  {
   "metadata": {},
   "cell_type": "markdown",
   "source": "1. Setup\n",
   "id": "f120faf28d63ddc1"
  },
  {
   "metadata": {
    "ExecuteTime": {
     "end_time": "2024-05-31T10:23:26.989673Z",
     "start_time": "2024-05-31T10:23:26.923954Z"
    }
   },
   "cell_type": "code",
   "source": "from pymongo import MongoClient",
   "id": "9a2ceda99b041c45",
   "outputs": [],
   "execution_count": 1
  },
  {
   "metadata": {
    "ExecuteTime": {
     "end_time": "2024-05-31T10:23:26.998852Z",
     "start_time": "2024-05-31T10:23:26.990666Z"
    }
   },
   "cell_type": "code",
   "source": [
    "connection_string = \"mongodb://localhost:27017/\"\n",
    "client = MongoClient(connection_string)"
   ],
   "id": "349873abe4b3586b",
   "outputs": [],
   "execution_count": 2
  },
  {
   "metadata": {
    "ExecuteTime": {
     "end_time": "2024-05-31T10:23:27.044707Z",
     "start_time": "2024-05-31T10:23:26.999465Z"
    }
   },
   "cell_type": "code",
   "source": "print(client.server_info()) ",
   "id": "cd41335d38934af8",
   "outputs": [
    {
     "name": "stdout",
     "output_type": "stream",
     "text": [
      "{'version': '7.0.2', 'gitVersion': '02b3c655e1302209ef046da6ba3ef6749dd0b62a', 'modules': [], 'allocator': 'system', 'javascriptEngine': 'mozjs', 'sysInfo': 'deprecated', 'versionArray': [7, 0, 2, 0], 'openssl': {'running': 'Apple Secure Transport'}, 'buildEnvironment': {'distmod': '', 'distarch': 'aarch64', 'cc': '/Applications/Xcode13.2.1.app/Contents/Developer/Toolchains/XcodeDefault.xctoolchain/usr/bin/clang: Apple clang version 13.0.0 (clang-1300.0.29.30)', 'ccflags': '-Wno-error=unknown-warning-option -isysroot /Applications/Xcode13.2.1.app/Contents/Developer/Platforms/MacOSX.platform/Developer/SDKs/MacOSX12.1.sdk -mmacosx-version-min=11.0 --target=darwin20.0.0 -arch arm64 -Werror -include mongo/platform/basic.h -ffp-contract=off -fasynchronous-unwind-tables -g2 -Wall -Wsign-compare -Wno-unknown-pragmas -Winvalid-pch -fno-omit-frame-pointer -fno-strict-aliasing -O2 -Wno-unused-local-typedefs -Wno-unused-function -Wno-unused-private-field -Wno-deprecated-declarations -Wno-tautological-constant-out-of-range-compare -Wno-tautological-constant-compare -Wno-tautological-unsigned-zero-compare -Wno-tautological-unsigned-enum-zero-compare -Wno-unused-const-variable -Wno-missing-braces -Wno-inconsistent-missing-override -Wno-potentially-evaluated-expression -Wno-unused-lambda-capture -Wunguarded-availability -fstack-protector-strong -fno-limit-debug-info -Wimplicit-fallthrough', 'cxx': '/Applications/Xcode13.2.1.app/Contents/Developer/Toolchains/XcodeDefault.xctoolchain/usr/bin/clang++: Apple clang version 13.0.0 (clang-1300.0.29.30)', 'cxxflags': '-Werror=unused-result -Woverloaded-virtual -Wpessimizing-move -Wno-undefined-var-template -Wno-instantiation-after-specialization -fsized-deallocation -Wno-defaulted-function-deleted -Wunused-exception-parameter -Wno-deprecated -stdlib=libc++ -std=c++20', 'linkflags': '-Wl,-syslibroot,/Applications/Xcode13.2.1.app/Contents/Developer/Platforms/MacOSX.platform/Developer/SDKs/MacOSX12.1.sdk -mmacosx-version-min=11.0 --target=darwin20.0.0 -arch arm64 -Wl,-fatal_warnings -Wl,-bind_at_load -fstack-protector-strong -stdlib=libc++', 'target_arch': 'aarch64', 'target_os': 'macOS', 'cppdefines': 'SAFEINT_USE_INTRINSICS 0 PCRE2_STATIC NDEBUG ASIO_HAS_STD_INVOKE_RESULT ABSL_FORCE_ALIGNED_ACCESS BOOST_ENABLE_ASSERT_DEBUG_HANDLER BOOST_FILESYSTEM_NO_CXX20_ATOMIC_REF BOOST_LOG_NO_SHORTHAND_NAMES BOOST_LOG_USE_NATIVE_SYSLOG BOOST_LOG_WITHOUT_THREAD_ATTR BOOST_MATH_NO_LONG_DOUBLE_MATH_FUNCTIONS BOOST_SYSTEM_NO_DEPRECATED BOOST_THREAD_USES_DATETIME BOOST_THREAD_VERSION 5'}, 'bits': 64, 'debug': False, 'maxBsonObjectSize': 16777216, 'macOS': {'osProductVersion': '14.2.1', 'osRelease': '23.2.0', 'version': 'Darwin Kernel Version 23.2.0: Wed Nov 15 21:53:18 PST 2023; root:xnu-10002.61.3~2/RELEASE_ARM64_T6000'}, 'storageEngines': ['devnull', 'wiredTiger'], 'ok': 1.0}\n"
     ]
    }
   ],
   "execution_count": 3
  },
  {
   "metadata": {},
   "cell_type": "markdown",
   "source": "Ein ODM (Object-Document Mapping) verbindet Objekte der Anwendungslogik mit Dokumenten in dokumentenorientierten Datenbanken. Es erleichtert die Speicherung, den Abruf und die Verarbeitung von Daten, indem Objekte in Dokumente umgewandelt werden und umgekehrt. Diese Verknüpfung ermöglicht es Entwicklern, objektorientierte Programmierparadigmen zu verwenden und gleichzeitig die Vorteile dokumentenorientierter Datenbanken wie Flexibilität und Skalierbarkeit zu nutzen.",
   "id": "b772a65d63d5ebee"
  },
  {
   "metadata": {},
   "cell_type": "markdown",
   "source": "2.DB, Collection, Document",
   "id": "d37404d4c1451586"
  },
  {
   "metadata": {
    "ExecuteTime": {
     "end_time": "2024-05-31T10:23:27.047854Z",
     "start_time": "2024-05-31T10:23:27.046035Z"
    }
   },
   "cell_type": "code",
   "source": [
    "def list_all_databases():\n",
    "    print('Databases')\n",
    "    dbs = client.list_database_names()\n",
    "    for db in dbs:\n",
    "        print('- ' + db)\n",
    "    print()\n",
    "    print('Select Database: ')\n",
    "    return dbs"
   ],
   "id": "67f8ade3ff006764",
   "outputs": [],
   "execution_count": 4
  },
  {
   "metadata": {
    "ExecuteTime": {
     "end_time": "2024-05-31T10:23:27.562409Z",
     "start_time": "2024-05-31T10:23:27.560152Z"
    }
   },
   "cell_type": "code",
   "source": [
    "def select_database(dbs):\n",
    "    db = input()\n",
    "    if db not in dbs:\n",
    "        print(\"No Database\")\n",
    "        return None\n",
    "    try:\n",
    "        db = client[db]\n",
    "    except Exception as e:\n",
    "        print(\"Fehler beim Abrufen der Datenbank:\", e)\n",
    "        return  None\n",
    "    \n",
    "    \n",
    "    print('Collections')\n",
    "    for collection in db.list_collection_names():\n",
    "        print('- ' + collection)\n",
    "        print()\n",
    "    print('Select Collections: ')\n",
    "    return db"
   ],
   "id": "8119453cfd71cfd8",
   "outputs": [],
   "execution_count": 5
  },
  {
   "metadata": {
    "ExecuteTime": {
     "end_time": "2024-05-31T10:23:28.125926Z",
     "start_time": "2024-05-31T10:23:28.122911Z"
    }
   },
   "cell_type": "code",
   "source": [
    "def select_collection(db):\n",
    "    col = input()\n",
    "    if col not in db.list_collection_names():\n",
    "        print(col, db.list_collection_names())\n",
    "        print(\"No Collection\")\n",
    "        return None\n",
    "    \n",
    "    try:\n",
    "        col = db.get_collection(col)\n",
    "    except Exception as e:\n",
    "        print(\"Fehler beim Abrufen der Collection:\", e)\n",
    "        return  None\n",
    "    \n",
    "    if col.name not in db.list_collection_names():\n",
    "        return None\n",
    "    \n",
    "    print('Documents')\n",
    "    document_ids = [str(doc['_id']) for doc in col.find({}, {'_id': 1})]\n",
    "    for doc_id in document_ids:\n",
    "        print(\"- \" + doc_id)\n",
    "    print()\n",
    "    print('Select Documents: ')\n",
    "    return col\n"
   ],
   "id": "15e99a3157bfe52e",
   "outputs": [],
   "execution_count": 6
  },
  {
   "metadata": {
    "ExecuteTime": {
     "end_time": "2024-05-31T10:23:28.605773Z",
     "start_time": "2024-05-31T10:23:28.603318Z"
    }
   },
   "cell_type": "code",
   "source": [
    "from bson import ObjectId\n",
    "def select_document(collection):\n",
    "    try:\n",
    "        _id = input()\n",
    "        print(_id)\n",
    "        doc = collection.find_one({'_id': ObjectId(_id)})\n",
    "        print(f\"{collection.database.name}.{collection.name}.{doc['_id']}\")\n",
    "        print()\n",
    "        for key, value in doc.items():\n",
    "            print(f\"{key}: {value}\")\n",
    "        return doc\n",
    "    except:\n",
    "        print('no Document')\n",
    "        return None\n",
    "\n",
    "        "
   ],
   "id": "40dccc10bbb08601",
   "outputs": [],
   "execution_count": 7
  },
  {
   "metadata": {
    "ExecuteTime": {
     "end_time": "2024-05-31T10:23:29.124405Z",
     "start_time": "2024-05-31T10:23:29.122623Z"
    }
   },
   "cell_type": "code",
   "source": [
    "import time\n",
    "\n",
    "def press_button():\n",
    "    print(\"Press any button to return\")\n",
    "    time.sleep(2)\n",
    "    input()"
   ],
   "id": "1ff77690e0b3f3ec",
   "outputs": [],
   "execution_count": 8
  },
  {
   "metadata": {
    "ExecuteTime": {
     "end_time": "2024-05-31T10:23:35.523131Z",
     "start_time": "2024-05-31T10:23:29.669783Z"
    }
   },
   "cell_type": "code",
   "source": [
    "\n",
    "while True:\n",
    "    dbs = list_all_databases()\n",
    "    time.sleep(1)\n",
    "    db = select_database(dbs)\n",
    "    if db is None:\n",
    "        press_button() \n",
    "        continue \n",
    "    \n",
    "    time.sleep(1)\n",
    "    collection = select_collection(db)\n",
    "    if collection is None:\n",
    "        press_button()\n",
    "        continue \n",
    "        \n",
    "    time.sleep(1)\n",
    "    doc = select_document(collection)\n",
    "    press_button()\n"
   ],
   "id": "e1547a0ed53f82b4",
   "outputs": [
    {
     "name": "stdout",
     "output_type": "stream",
     "text": [
      "Databases\n",
      "- admin\n",
      "- cloud\n",
      "- config\n",
      "- files\n",
      "- formum\n",
      "- hallo\n",
      "- local\n",
      "- media\n",
      "- photo_album\n",
      "- power\n",
      "- restaurant\n",
      "- shop\n",
      "- space\n",
      "- stundenplan\n",
      "- test\n",
      "- traffic\n",
      "\n",
      "Select Database: \n",
      "No Database\n",
      "Press any button to return\n"
     ]
    },
    {
     "ename": "KeyboardInterrupt",
     "evalue": "",
     "output_type": "error",
     "traceback": [
      "\u001B[0;31m---------------------------------------------------------------------------\u001B[0m",
      "\u001B[0;31mKeyboardInterrupt\u001B[0m                         Traceback (most recent call last)",
      "Cell \u001B[0;32mIn[9], line 6\u001B[0m\n\u001B[1;32m      4\u001B[0m db \u001B[38;5;241m=\u001B[39m select_database(dbs)\n\u001B[1;32m      5\u001B[0m \u001B[38;5;28;01mif\u001B[39;00m db \u001B[38;5;129;01mis\u001B[39;00m \u001B[38;5;28;01mNone\u001B[39;00m:\n\u001B[0;32m----> 6\u001B[0m     \u001B[43mpress_button\u001B[49m\u001B[43m(\u001B[49m\u001B[43m)\u001B[49m \n\u001B[1;32m      7\u001B[0m     \u001B[38;5;28;01mcontinue\u001B[39;00m \n\u001B[1;32m      9\u001B[0m time\u001B[38;5;241m.\u001B[39msleep(\u001B[38;5;241m1\u001B[39m)\n",
      "Cell \u001B[0;32mIn[8], line 5\u001B[0m, in \u001B[0;36mpress_button\u001B[0;34m()\u001B[0m\n\u001B[1;32m      3\u001B[0m \u001B[38;5;28;01mdef\u001B[39;00m \u001B[38;5;21mpress_button\u001B[39m():\n\u001B[1;32m      4\u001B[0m     \u001B[38;5;28mprint\u001B[39m(\u001B[38;5;124m\"\u001B[39m\u001B[38;5;124mPress any button to return\u001B[39m\u001B[38;5;124m\"\u001B[39m)\n\u001B[0;32m----> 5\u001B[0m     \u001B[43mtime\u001B[49m\u001B[38;5;241;43m.\u001B[39;49m\u001B[43msleep\u001B[49m\u001B[43m(\u001B[49m\u001B[38;5;241;43m2\u001B[39;49m\u001B[43m)\u001B[49m\n\u001B[1;32m      6\u001B[0m     \u001B[38;5;28minput\u001B[39m()\n",
      "\u001B[0;31mKeyboardInterrupt\u001B[0m: "
     ]
    }
   ],
   "execution_count": 9
  },
  {
   "metadata": {},
   "cell_type": "markdown",
   "source": "3.Crud",
   "id": "5d19cdda77b23515"
  },
  {
   "metadata": {
    "ExecuteTime": {
     "end_time": "2024-05-31T10:23:39.725761Z",
     "start_time": "2024-05-31T10:23:39.718446Z"
    }
   },
   "cell_type": "code",
   "source": [
    "db = client['restaurant']\n",
    "db.list_collection_names()"
   ],
   "id": "83e2d8ae82407164",
   "outputs": [
    {
     "data": {
      "text/plain": [
       "['restaurants', 'neighborhoods']"
      ]
     },
     "execution_count": 10,
     "metadata": {},
     "output_type": "execute_result"
    }
   ],
   "execution_count": 10
  },
  {
   "metadata": {
    "ExecuteTime": {
     "end_time": "2024-05-31T10:23:40.211950Z",
     "start_time": "2024-05-31T10:23:40.210126Z"
    }
   },
   "cell_type": "code",
   "source": "collection = db.get_collection('restaurants')\n",
   "id": "b2a2617d1c1ede15",
   "outputs": [],
   "execution_count": 11
  },
  {
   "metadata": {
    "ExecuteTime": {
     "end_time": "2024-05-31T10:23:40.721769Z",
     "start_time": "2024-05-31T10:23:40.606052Z"
    }
   },
   "cell_type": "code",
   "source": [
    "boroughs = collection.distinct('borough')\n",
    "for borough in boroughs:\n",
    "    print(borough)"
   ],
   "id": "8ba65dd285d80176",
   "outputs": [
    {
     "name": "stdout",
     "output_type": "stream",
     "text": [
      "Bronx\n",
      "Brooklyn\n",
      "Manhattan\n",
      "Missing\n",
      "Queens\n",
      "Staten Island\n"
     ]
    }
   ],
   "execution_count": 12
  },
  {
   "metadata": {
    "ExecuteTime": {
     "end_time": "2024-05-31T10:23:41.455141Z",
     "start_time": "2024-05-31T10:23:41.314879Z"
    }
   },
   "cell_type": "code",
   "source": [
    "from bson import SON\n",
    "\n",
    "pipeline = [\n",
    "    {\n",
    "        \"$unwind\": \"$grades\"\n",
    "    },\n",
    "    {\n",
    "        \"$group\": {\n",
    "            \"_id\": \"$restaurant_id\",\n",
    "            \"restaurant\": { \"$first\": \"$$ROOT\" },\n",
    "            \"avg_rating\": {\"$avg\": \"$grades.score\"}\n",
    "        }\n",
    "    },\n",
    "    {\n",
    "        \"$sort\": SON([(\"avg_rating\", -1)])\n",
    "    },\n",
    "    {\n",
    "        \"$limit\": 3\n",
    "    },\n",
    "    {\n",
    "        \"$replaceRoot\": { \"newRoot\": \"$restaurant\" }\n",
    "    },\n",
    "    {\n",
    "        \"$project\": { \"averageRating\": 0 }\n",
    "    }\n",
    "]\n",
    "for doc in collection.aggregate(pipeline):\n",
    "    print(doc)"
   ],
   "id": "9453757e873c2d3e",
   "outputs": [
    {
     "name": "stdout",
     "output_type": "stream",
     "text": [
      "{'_id': ObjectId('5eb3d669b31de5d588f48751'), 'address': {'building': '1068', 'coord': [-73.958167, 40.681357], 'street': 'Fulton Street', 'zipcode': '11238'}, 'borough': 'Brooklyn', 'cuisine': 'Juice, Smoothies, Fruit Salads', 'grades': {'date': datetime.datetime(2015, 1, 20, 0, 0), 'grade': 'Not Yet Graded', 'score': 75}, 'name': 'Juice It Health Bar', 'restaurant_id': '50015959', 'countrycode': 'US'}\n",
      "{'_id': ObjectId('5eb3d669b31de5d588f4897e'), 'address': {'building': '2166', 'coord': [-73.852077, 40.8339379], 'street': 'Westchester Avenue', 'zipcode': '10462'}, 'borough': 'Bronx', 'cuisine': 'Chinese', 'grades': {'date': datetime.datetime(2015, 1, 20, 0, 0), 'grade': 'Not Yet Graded', 'score': 73}, 'name': 'Golden Dragon Cuisine', 'restaurant_id': '50017374', 'countrycode': 'US'}\n",
      "{'_id': ObjectId('5eb3d669b31de5d588f48b4a'), 'address': {'building': '1305', 'coord': [-73.9854939, 40.6410624], 'street': '38Th St', 'zipcode': '11218'}, 'borough': 'Brooklyn', 'cuisine': 'Juice, Smoothies, Fruit Salads', 'grades': {'date': datetime.datetime(2015, 1, 20, 0, 0), 'grade': 'Not Yet Graded', 'score': 69}, 'name': \"Chelsea'S Juice Factory\", 'restaurant_id': '50018457', 'countrycode': 'US'}\n"
     ]
    }
   ],
   "execution_count": 13
  },
  {
   "metadata": {
    "ExecuteTime": {
     "end_time": "2024-05-31T10:23:41.987104Z",
     "start_time": "2024-05-31T10:23:41.875479Z"
    }
   },
   "cell_type": "code",
   "source": [
    "le_perigord_coords = [45.185454, -0.725086]  # corrected the coordinates\n",
    "collection.create_index([(\"address.coord\", \"2dsphere\")])\n",
    "pipeline = [\n",
    "    {\n",
    "        \"$geoNear\": {\n",
    "            \"near\": {\"type\": \"Point\", \"coordinates\": le_perigord_coords},\n",
    "            \"distanceField\": \"distance\",\n",
    "            \"spherical\": True,\n",
    "            \"key\": \"address.coord\"  # removed the dollar sign ('$') from the field name\n",
    "        }\n",
    "    },\n",
    "    {\n",
    "        \"$sort\": {\"distance\": 1}  # Sort by distance\n",
    "    },\n",
    "    {\n",
    "        \"$limit\": 1\n",
    "    },\n",
    "    {\n",
    "      \"$project\": { \"distance\": 0 }\n",
    "    }\n",
    "]\n",
    "for doc in collection.aggregate(pipeline):\n",
    "    print(doc)\n"
   ],
   "id": "1faf6931adc53b88",
   "outputs": [
    {
     "name": "stdout",
     "output_type": "stream",
     "text": [
      "{'_id': ObjectId('5eb3d669b31de5d588f471a2'), 'address': {'building': '4953', 'coord': [28.1530999, -25.8109474], 'street': \"B'Way\", 'zipcode': '10034'}, 'borough': 'Manhattan', 'cuisine': 'Spanish', 'grades': [{'date': datetime.datetime(2014, 7, 14, 0, 0), 'grade': 'A', 'score': 12}, {'date': datetime.datetime(2013, 7, 29, 0, 0), 'grade': 'A', 'score': 7}], 'name': 'Dichter Pharmacy', 'restaurant_id': '41721961', 'countrycode': 'US'}\n"
     ]
    }
   ],
   "execution_count": 14
  },
  {
   "metadata": {
    "ExecuteTime": {
     "end_time": "2024-05-31T10:23:48.440315Z",
     "start_time": "2024-05-31T10:23:42.489701Z"
    }
   },
   "cell_type": "code",
   "source": [
    "from datetime import datetime\n",
    "import time\n",
    "from bson import ObjectId\n",
    "\n",
    "\n",
    "def get_pipline_with_filter(name='', cuisine=''):\n",
    "    pipeline = []\n",
    "    if  cuisine != '':\n",
    "        pipeline.append({\"$match\": {\"cuisine\": cuisine}})\n",
    "    if name != '' :   \n",
    "        pipeline.append({\"$match\": {\"name\": name}})\n",
    "    return pipeline\n",
    "\n",
    "def get_grade( grade, score):\n",
    "    return {\n",
    "        \"date\": datetime.now(),\n",
    "        \"score\": score, \n",
    "        \"grade\": grade\n",
    "        }\n",
    "\n",
    "documents = list(collection.aggregate(get_pipline_with_filter(input('name'), input('cuisine'))))\n",
    "\n",
    "print(documents[:100])\n",
    "id = None\n",
    "if len(documents) == 0:\n",
    "    print(\"No Documents\")\n",
    "elif len(documents) == 1:\n",
    "    document = documents[0]\n",
    "    id = document['_id']\n",
    "elif len(documents) > 1:\n",
    "    print(\"es gibt mehrere einträge\")\n",
    "    print('welcher möchten sie?')\n",
    "    time.sleep(2)\n",
    "    user_input = input('id')\n",
    "    id = user_input if user_input else None\n",
    "    \n",
    "if id is not None:\n",
    "    doc = collection.update_one({\"_id\": ObjectId(id)}, {\"$push\": {\"grades\": get_grade(input('grade'), input(\"score\"))}})\n",
    "    print('erfolgreich updated', doc)\n",
    "    print(collection.find_one({\"_id\": ObjectId(id)}))\n",
    "    "
   ],
   "id": "8c0615ee1e9acff6",
   "outputs": [
    {
     "name": "stdout",
     "output_type": "stream",
     "text": [
      "[{'_id': ObjectId('5eb3d668b31de5d588f4292a'), 'address': {'building': '2780', 'coord': [-73.98241999999999, 40.579505], 'street': 'Stillwell Avenue', 'zipcode': '11224'}, 'borough': 'Brooklyn', 'cuisine': 'American', 'grades': [{'date': datetime.datetime(2014, 6, 10, 0, 0), 'grade': 'A', 'score': 5}, {'date': datetime.datetime(2013, 6, 5, 0, 0), 'grade': 'A', 'score': 7}, {'date': datetime.datetime(2012, 4, 13, 0, 0), 'grade': 'A', 'score': 12}, {'date': datetime.datetime(2011, 10, 12, 0, 0), 'grade': 'A', 'score': 12}], 'name': 'Riviera Caterer', 'restaurant_id': '40356018', 'countrycode': 'US'}, {'_id': ObjectId('5eb3d668b31de5d588f4292b'), 'address': {'building': '7114', 'coord': [-73.9068506, 40.6199034], 'street': 'Avenue U', 'zipcode': '11234'}, 'borough': 'Brooklyn', 'cuisine': 'Delicatessen', 'grades': [{'date': datetime.datetime(2014, 5, 29, 0, 0), 'grade': 'A', 'score': 10}, {'date': datetime.datetime(2014, 1, 14, 0, 0), 'grade': 'A', 'score': 10}, {'date': datetime.datetime(2013, 8, 3, 0, 0), 'grade': 'A', 'score': 8}, {'date': datetime.datetime(2012, 7, 18, 0, 0), 'grade': 'A', 'score': 10}, {'date': datetime.datetime(2012, 3, 9, 0, 0), 'grade': 'A', 'score': 13}, {'date': datetime.datetime(2011, 10, 14, 0, 0), 'grade': 'A', 'score': 9}], 'name': \"Wilken'S Fine Food\", 'restaurant_id': '40356483', 'countrycode': 'US'}, {'_id': ObjectId('5eb3d668b31de5d588f4292c'), 'address': {'building': '2206', 'coord': [-74.1377286, 40.6119572], 'street': 'Victory Boulevard', 'zipcode': '10314'}, 'borough': 'Staten Island', 'cuisine': 'Jewish/Kosher', 'grades': [{'date': datetime.datetime(2014, 10, 6, 0, 0), 'grade': 'A', 'score': 9}, {'date': datetime.datetime(2014, 5, 20, 0, 0), 'grade': 'A', 'score': 12}, {'date': datetime.datetime(2013, 4, 4, 0, 0), 'grade': 'A', 'score': 12}, {'date': datetime.datetime(2012, 1, 24, 0, 0), 'grade': 'A', 'score': 9}], 'name': 'Kosher Island', 'restaurant_id': '40356442', 'countrycode': 'US'}, {'_id': ObjectId('5eb3d668b31de5d588f4292d'), 'address': {'building': '469', 'coord': [-73.961704, 40.662942], 'street': 'Flatbush Avenue', 'zipcode': '11225'}, 'borough': 'Brooklyn', 'cuisine': 'Hamburgers', 'grades': [{'date': datetime.datetime(2014, 12, 30, 0, 0), 'grade': 'A', 'score': 8}, {'date': datetime.datetime(2014, 7, 1, 0, 0), 'grade': 'B', 'score': 23}, {'date': datetime.datetime(2013, 4, 30, 0, 0), 'grade': 'A', 'score': 12}, {'date': datetime.datetime(2012, 5, 8, 0, 0), 'grade': 'A', 'score': 12}], 'name': \"Wendy'S\", 'restaurant_id': '30112340', 'countrycode': 'US'}, {'_id': ObjectId('5eb3d668b31de5d588f4292e'), 'address': {'building': '1007', 'coord': [-73.856077, 40.848447], 'street': 'Morris Park Ave', 'zipcode': '10462'}, 'borough': 'Bronx', 'cuisine': 'Bakery', 'grades': [{'date': datetime.datetime(2014, 3, 3, 0, 0), 'grade': 'A', 'score': 2}, {'date': datetime.datetime(2013, 9, 11, 0, 0), 'grade': 'A', 'score': 6}, {'date': datetime.datetime(2013, 1, 24, 0, 0), 'grade': 'A', 'score': 10}, {'date': datetime.datetime(2011, 11, 23, 0, 0), 'grade': 'A', 'score': 9}, {'date': datetime.datetime(2011, 3, 10, 0, 0), 'grade': 'B', 'score': 14}], 'name': 'Morris Park Bake Shop', 'restaurant_id': '30075445', 'countrycode': 'US'}, {'_id': ObjectId('5eb3d668b31de5d588f4292f'), 'address': {'building': '97-22', 'coord': [-73.8601152, 40.7311739], 'street': '63 Road', 'zipcode': '11374'}, 'borough': 'Queens', 'cuisine': 'Jewish/Kosher', 'grades': [{'date': datetime.datetime(2014, 11, 24, 0, 0), 'grade': 'Z', 'score': 20}, {'date': datetime.datetime(2013, 1, 17, 0, 0), 'grade': 'A', 'score': 13}, {'date': datetime.datetime(2012, 8, 2, 0, 0), 'grade': 'A', 'score': 13}, {'date': datetime.datetime(2011, 12, 15, 0, 0), 'grade': 'B', 'score': 25}], 'name': 'Tov Kosher Kitchen', 'restaurant_id': '40356068', 'countrycode': 'US'}, {'_id': ObjectId('5eb3d668b31de5d588f42930'), 'address': {'building': '8825', 'coord': [-73.8803827, 40.7643124], 'street': 'Astoria Boulevard', 'zipcode': '11369'}, 'borough': 'Queens', 'cuisine': 'American', 'grades': [{'date': datetime.datetime(2014, 11, 15, 0, 0), 'grade': 'Z', 'score': 38}, {'date': datetime.datetime(2014, 5, 2, 0, 0), 'grade': 'A', 'score': 10}, {'date': datetime.datetime(2013, 3, 2, 0, 0), 'grade': 'A', 'score': 7}, {'date': datetime.datetime(2012, 2, 10, 0, 0), 'grade': 'A', 'score': 13}], 'name': 'Brunos On The Boulevard', 'restaurant_id': '40356151', 'countrycode': 'US'}, {'_id': ObjectId('5eb3d668b31de5d588f42931'), 'address': {'building': '6409', 'coord': [-74.00528899999999, 40.628886], 'street': '11 Avenue', 'zipcode': '11219'}, 'borough': 'Brooklyn', 'cuisine': 'American', 'grades': [{'date': datetime.datetime(2014, 7, 18, 0, 0), 'grade': 'A', 'score': 12}, {'date': datetime.datetime(2013, 7, 30, 0, 0), 'grade': 'A', 'score': 12}, {'date': datetime.datetime(2013, 2, 13, 0, 0), 'grade': 'A', 'score': 11}, {'date': datetime.datetime(2012, 8, 16, 0, 0), 'grade': 'A', 'score': 2}, {'date': datetime.datetime(2011, 8, 17, 0, 0), 'grade': 'A', 'score': 11}], 'name': 'Regina Caterers', 'restaurant_id': '40356649', 'countrycode': 'US'}, {'_id': ObjectId('5eb3d668b31de5d588f42932'), 'address': {'building': '1839', 'coord': [-73.9482609, 40.6408271], 'street': 'Nostrand Avenue', 'zipcode': '11226'}, 'borough': 'Brooklyn', 'cuisine': 'Ice Cream, Gelato, Yogurt, Ices', 'grades': [{'date': datetime.datetime(2014, 7, 14, 0, 0), 'grade': 'A', 'score': 12}, {'date': datetime.datetime(2013, 7, 10, 0, 0), 'grade': 'A', 'score': 8}, {'date': datetime.datetime(2012, 7, 11, 0, 0), 'grade': 'A', 'score': 5}, {'date': datetime.datetime(2012, 2, 23, 0, 0), 'grade': 'A', 'score': 8}], 'name': 'Taste The Tropics Ice Cream', 'restaurant_id': '40356731', 'countrycode': 'US'}, {'_id': ObjectId('5eb3d668b31de5d588f42933'), 'address': {'building': '2300', 'coord': [-73.8786113, 40.8502883], 'street': 'Southern Boulevard', 'zipcode': '10460'}, 'borough': 'Bronx', 'cuisine': 'American', 'grades': [{'date': datetime.datetime(2014, 5, 28, 0, 0), 'grade': 'A', 'score': 11}, {'date': datetime.datetime(2013, 6, 19, 0, 0), 'grade': 'A', 'score': 4}, {'date': datetime.datetime(2012, 6, 15, 0, 0), 'grade': 'A', 'score': 3}], 'name': 'Wild Asia', 'restaurant_id': '40357217', 'countrycode': 'US'}, {'_id': ObjectId('5eb3d668b31de5d588f42934'), 'address': {'building': '7715', 'coord': [-73.9973325, 40.61174889999999], 'street': '18 Avenue', 'zipcode': '11214'}, 'borough': 'Brooklyn', 'cuisine': 'American', 'grades': [{'date': datetime.datetime(2014, 4, 16, 0, 0), 'grade': 'A', 'score': 5}, {'date': datetime.datetime(2013, 4, 23, 0, 0), 'grade': 'A', 'score': 2}, {'date': datetime.datetime(2012, 4, 24, 0, 0), 'grade': 'A', 'score': 5}, {'date': datetime.datetime(2011, 12, 16, 0, 0), 'grade': 'A', 'score': 2}], 'name': 'C & C Catering Service', 'restaurant_id': '40357437', 'countrycode': 'US'}, {'_id': ObjectId('5eb3d668b31de5d588f42935'), 'address': {'building': '705', 'coord': [-73.9653967, 40.6064339], 'street': 'Kings Highway', 'zipcode': '11223'}, 'borough': 'Brooklyn', 'cuisine': 'Jewish/Kosher', 'grades': [{'date': datetime.datetime(2014, 11, 10, 0, 0), 'grade': 'A', 'score': 11}, {'date': datetime.datetime(2013, 10, 10, 0, 0), 'grade': 'A', 'score': 13}, {'date': datetime.datetime(2012, 10, 4, 0, 0), 'grade': 'A', 'score': 7}, {'date': datetime.datetime(2012, 5, 21, 0, 0), 'grade': 'A', 'score': 9}, {'date': datetime.datetime(2011, 12, 30, 0, 0), 'grade': 'B', 'score': 19}], 'name': 'Seuda Foods', 'restaurant_id': '40360045', 'countrycode': 'US'}, {'_id': ObjectId('5eb3d668b31de5d588f42936'), 'address': {'building': '1269', 'coord': [-73.871194, 40.6730975], 'street': 'Sutter Avenue', 'zipcode': '11208'}, 'borough': 'Brooklyn', 'cuisine': 'Chinese', 'grades': [{'date': datetime.datetime(2014, 9, 16, 0, 0), 'grade': 'B', 'score': 21}, {'date': datetime.datetime(2013, 8, 28, 0, 0), 'grade': 'A', 'score': 7}, {'date': datetime.datetime(2013, 4, 2, 0, 0), 'grade': 'C', 'score': 56}, {'date': datetime.datetime(2012, 8, 15, 0, 0), 'grade': 'B', 'score': 27}, {'date': datetime.datetime(2012, 3, 28, 0, 0), 'grade': 'B', 'score': 27}], 'name': 'May May Kitchen', 'restaurant_id': '40358429', 'countrycode': 'US'}, {'_id': ObjectId('5eb3d668b31de5d588f42937'), 'address': {'building': '1', 'coord': [-73.96926909999999, 40.7685235], 'street': 'East   66 Street', 'zipcode': '10065'}, 'borough': 'Manhattan', 'cuisine': 'American', 'grades': [{'date': datetime.datetime(2014, 5, 7, 0, 0), 'grade': 'A', 'score': 3}, {'date': datetime.datetime(2013, 5, 3, 0, 0), 'grade': 'A', 'score': 4}, {'date': datetime.datetime(2012, 4, 30, 0, 0), 'grade': 'A', 'score': 6}, {'date': datetime.datetime(2011, 12, 27, 0, 0), 'grade': 'A', 'score': 0}], 'name': '1 East 66Th Street Kitchen', 'restaurant_id': '40359480', 'countrycode': 'US'}, {'_id': ObjectId('5eb3d668b31de5d588f42938'), 'address': {'building': '265-15', 'coord': [-73.7032601, 40.7386417], 'street': 'Hillside Avenue', 'zipcode': '11004'}, 'borough': 'Queens', 'cuisine': 'Ice Cream, Gelato, Yogurt, Ices', 'grades': [{'date': datetime.datetime(2014, 10, 28, 0, 0), 'grade': 'A', 'score': 9}, {'date': datetime.datetime(2013, 9, 18, 0, 0), 'grade': 'A', 'score': 10}, {'date': datetime.datetime(2012, 9, 20, 0, 0), 'grade': 'A', 'score': 13}], 'name': 'Carvel Ice Cream', 'restaurant_id': '40361322', 'countrycode': 'US'}, {'_id': ObjectId('5eb3d668b31de5d588f42939'), 'address': {'building': '351', 'coord': [-73.98513559999999, 40.7676919], 'street': 'West   57 Street', 'zipcode': '10019'}, 'borough': 'Manhattan', 'cuisine': 'Irish', 'grades': [{'date': datetime.datetime(2014, 9, 6, 0, 0), 'grade': 'A', 'score': 2}, {'date': datetime.datetime(2013, 7, 22, 0, 0), 'grade': 'A', 'score': 11}, {'date': datetime.datetime(2012, 7, 31, 0, 0), 'grade': 'A', 'score': 12}, {'date': datetime.datetime(2011, 12, 29, 0, 0), 'grade': 'A', 'score': 12}], 'name': 'Dj Reynolds Pub And Restaurant', 'restaurant_id': '30191841', 'countrycode': 'US'}, {'_id': ObjectId('5eb3d668b31de5d588f4293a'), 'address': {'building': '203', 'coord': [-73.97822040000001, 40.6435254], 'street': 'Church Avenue', 'zipcode': '11218'}, 'borough': 'Brooklyn', 'cuisine': 'Ice Cream, Gelato, Yogurt, Ices', 'grades': [{'date': datetime.datetime(2014, 2, 10, 0, 0), 'grade': 'A', 'score': 2}, {'date': datetime.datetime(2013, 1, 2, 0, 0), 'grade': 'A', 'score': 13}, {'date': datetime.datetime(2012, 1, 9, 0, 0), 'grade': 'A', 'score': 3}, {'date': datetime.datetime(2011, 11, 7, 0, 0), 'grade': 'P', 'score': 12}, {'date': datetime.datetime(2011, 7, 21, 0, 0), 'grade': 'A', 'score': 13}], 'name': 'Carvel Ice Cream', 'restaurant_id': '40360076', 'countrycode': 'US'}, {'_id': ObjectId('5eb3d668b31de5d588f4293b'), 'address': {'building': '6909', 'coord': [-74.0259567, 40.6353674], 'street': '3 Avenue', 'zipcode': '11209'}, 'borough': 'Brooklyn', 'cuisine': 'Delicatessen', 'grades': [{'date': datetime.datetime(2014, 8, 21, 0, 0), 'grade': 'A', 'score': 4}, {'date': datetime.datetime(2014, 3, 5, 0, 0), 'grade': 'A', 'score': 3}, {'date': datetime.datetime(2013, 1, 10, 0, 0), 'grade': 'A', 'score': 10}], 'name': 'Nordic Delicacies', 'restaurant_id': '40361390', 'countrycode': 'US'}, {'_id': ObjectId('5eb3d668b31de5d588f4293c'), 'address': {'building': '284', 'coord': [-73.9829239, 40.6580753], 'street': 'Prospect Park West', 'zipcode': '11215'}, 'borough': 'Brooklyn', 'cuisine': 'American', 'grades': [{'date': datetime.datetime(2014, 11, 19, 0, 0), 'grade': 'A', 'score': 11}, {'date': datetime.datetime(2013, 11, 14, 0, 0), 'grade': 'A', 'score': 2}, {'date': datetime.datetime(2012, 12, 5, 0, 0), 'grade': 'A', 'score': 13}, {'date': datetime.datetime(2012, 5, 17, 0, 0), 'grade': 'A', 'score': 11}], 'name': 'The Movable Feast', 'restaurant_id': '40361606', 'countrycode': 'US'}, {'_id': ObjectId('5eb3d668b31de5d588f4293d'), 'address': {'building': '759', 'coord': [-73.9925306, 40.7309346], 'street': 'Broadway', 'zipcode': '10003'}, 'borough': 'Manhattan', 'cuisine': 'Fastfood', 'grades': [], 'name': 'Herbies Snacks', 'restaurant_id': '40361708', 'countrycode': 'US'}, {'_id': ObjectId('5eb3d668b31de5d588f4293e'), 'address': {'building': '129-08', 'coord': [-73.839297, 40.78147], 'street': '20 Avenue', 'zipcode': '11356'}, 'borough': 'Queens', 'cuisine': 'Delicatessen', 'grades': [{'date': datetime.datetime(2014, 8, 16, 0, 0), 'grade': 'A', 'score': 12}, {'date': datetime.datetime(2013, 8, 27, 0, 0), 'grade': 'A', 'score': 9}, {'date': datetime.datetime(2012, 9, 20, 0, 0), 'grade': 'A', 'score': 7}, {'date': datetime.datetime(2011, 9, 29, 0, 0), 'grade': 'A', 'score': 10}], 'name': \"Sal'S Deli\", 'restaurant_id': '40361618', 'countrycode': 'US'}, {'_id': ObjectId('5eb3d668b31de5d588f4293f'), 'address': {'building': '3406', 'coord': [-73.94024739999999, 40.7623288], 'street': '10 Street', 'zipcode': '11106'}, 'borough': 'Queens', 'cuisine': 'Delicatessen', 'grades': [{'date': datetime.datetime(2014, 3, 19, 0, 0), 'grade': 'A', 'score': 3}, {'date': datetime.datetime(2013, 3, 13, 0, 0), 'grade': 'A', 'score': 12}, {'date': datetime.datetime(2012, 3, 27, 0, 0), 'grade': 'A', 'score': 8}, {'date': datetime.datetime(2011, 4, 5, 0, 0), 'grade': 'A', 'score': 7}], 'name': \"Steve Chu'S Deli & Grocery\", 'restaurant_id': '40361998', 'countrycode': 'US'}, {'_id': ObjectId('5eb3d668b31de5d588f42940'), 'address': {'building': '522', 'coord': [-73.95171, 40.767461], 'street': 'East   74 Street', 'zipcode': '10021'}, 'borough': 'Manhattan', 'cuisine': 'American', 'grades': [{'date': datetime.datetime(2014, 9, 2, 0, 0), 'grade': 'A', 'score': 12}, {'date': datetime.datetime(2013, 12, 19, 0, 0), 'grade': 'B', 'score': 16}, {'date': datetime.datetime(2013, 5, 28, 0, 0), 'grade': 'A', 'score': 9}, {'date': datetime.datetime(2012, 12, 7, 0, 0), 'grade': 'A', 'score': 13}, {'date': datetime.datetime(2012, 3, 29, 0, 0), 'grade': 'A', 'score': 11}], 'name': 'Glorious Food', 'restaurant_id': '40361521', 'countrycode': 'US', 'hours': {'Mo': {'From': '07:00', 'To': '22:00'}, 'Di': {'From': '12:00', 'To': '22:00'}, 'Mi': {'From': '07:00', 'To': '22:00'}, 'Do': {'From': '07:00', 'To': '22:00'}, 'Fr': {'From': '07:00', 'To': '23:30'}, 'Sa': {'From': '10:00', 'To': '23:30'}, 'So': {'From': '14:00', 'To': '21:00'}}, 'misc': {'hasWifi': True, 'parking': 15, 'webpage': 'gloriousfood.com', 'phone': '+1 123-456-7890', 'opening': datetime.datetime(2022, 8, 1, 11, 0)}}, {'_id': ObjectId('5eb3d668b31de5d588f42941'), 'address': {'building': '730', 'coord': [-73.96805719999999, 40.7925587], 'street': 'Columbus Avenue', 'zipcode': '10025'}, 'borough': 'Manhattan', 'cuisine': 'American', 'grades': [{'date': datetime.datetime(2014, 9, 12, 0, 0), 'grade': 'B', 'score': 26}, {'date': datetime.datetime(2013, 8, 28, 0, 0), 'grade': 'A', 'score': 9}, {'date': datetime.datetime(2013, 3, 25, 0, 0), 'grade': 'B', 'score': 20}, {'date': datetime.datetime(2012, 2, 14, 0, 0), 'grade': 'A', 'score': 12}], 'name': 'P & S Deli Grocery', 'restaurant_id': '40362264', 'countrycode': 'US'}, {'_id': ObjectId('5eb3d668b31de5d588f42942'), 'address': {'building': '502', 'coord': [-73.976112, 40.786714], 'street': 'Amsterdam Avenue', 'zipcode': '10024'}, 'borough': 'Manhattan', 'cuisine': 'Chicken', 'grades': [{'date': datetime.datetime(2014, 9, 15, 0, 0), 'grade': 'A', 'score': 10}, {'date': datetime.datetime(2014, 3, 4, 0, 0), 'grade': 'A', 'score': 13}, {'date': datetime.datetime(2013, 7, 18, 0, 0), 'grade': 'A', 'score': 13}, {'date': datetime.datetime(2013, 1, 9, 0, 0), 'grade': 'A', 'score': 11}, {'date': datetime.datetime(2012, 4, 10, 0, 0), 'grade': 'A', 'score': 10}, {'date': datetime.datetime(2011, 11, 15, 0, 0), 'grade': 'A', 'score': 7}], 'name': \"Harriet'S Kitchen\", 'restaurant_id': '40362098', 'countrycode': 'US'}, {'_id': ObjectId('5eb3d668b31de5d588f42943'), 'address': {'building': '18', 'coord': [-73.996984, 40.72589], 'street': 'West Houston Street', 'zipcode': '10012'}, 'borough': 'Manhattan', 'cuisine': 'American', 'grades': [{'date': datetime.datetime(2014, 4, 3, 0, 0), 'grade': 'A', 'score': 9}, {'date': datetime.datetime(2013, 4, 5, 0, 0), 'grade': 'A', 'score': 4}, {'date': datetime.datetime(2012, 3, 21, 0, 0), 'grade': 'A', 'score': 13}, {'date': datetime.datetime(2011, 4, 27, 0, 0), 'grade': 'A', 'score': 5}], 'name': 'Angelika Film Center', 'restaurant_id': '40362274', 'countrycode': 'US'}, {'_id': ObjectId('5eb3d668b31de5d588f42944'), 'address': {'building': '531', 'coord': [-73.9634876, 40.6940001], 'street': 'Myrtle Avenue', 'zipcode': '11205'}, 'borough': 'Brooklyn', 'cuisine': 'Hamburgers', 'grades': [{'date': datetime.datetime(2014, 3, 18, 0, 0), 'grade': 'A', 'score': 8}, {'date': datetime.datetime(2013, 3, 18, 0, 0), 'grade': 'A', 'score': 8}, {'date': datetime.datetime(2012, 10, 10, 0, 0), 'grade': 'A', 'score': 7}, {'date': datetime.datetime(2011, 9, 22, 0, 0), 'grade': 'A', 'score': 2}], 'name': 'White Castle', 'restaurant_id': '40362344', 'countrycode': 'US'}, {'_id': ObjectId('5eb3d668b31de5d588f42945'), 'address': {'building': '60', 'coord': [-74.0085357, 40.70620539999999], 'street': 'Wall Street', 'zipcode': '10005'}, 'borough': 'Manhattan', 'cuisine': 'Turkish', 'grades': [{'date': datetime.datetime(2014, 9, 26, 0, 0), 'grade': 'A', 'score': 9}, {'date': datetime.datetime(2013, 9, 18, 0, 0), 'grade': 'A', 'score': 13}, {'date': datetime.datetime(2012, 9, 21, 0, 0), 'grade': 'A', 'score': 9}, {'date': datetime.datetime(2012, 5, 9, 0, 0), 'grade': 'A', 'score': 11}], 'name': 'The Country Cafe', 'restaurant_id': '40362715', 'countrycode': 'US'}, {'_id': ObjectId('5eb3d668b31de5d588f42946'), 'address': {'building': '195', 'coord': [-73.9246028, 40.6522396], 'street': 'East   56 Street', 'zipcode': '11203'}, 'borough': 'Brooklyn', 'cuisine': 'Caribbean', 'grades': [{'date': datetime.datetime(2014, 5, 13, 0, 0), 'grade': 'A', 'score': 2}, {'date': datetime.datetime(2013, 5, 8, 0, 0), 'grade': 'A', 'score': 7}, {'date': datetime.datetime(2012, 9, 22, 0, 0), 'grade': 'A', 'score': 11}, {'date': datetime.datetime(2011, 6, 6, 0, 0), 'grade': 'A', 'score': 12}], 'name': \"Shashemene Int'L Restaura\", 'restaurant_id': '40362869', 'countrycode': 'US'}, {'_id': ObjectId('5eb3d668b31de5d588f42947'), 'address': {'building': '103-05', 'coord': [-73.8642349, 40.75356], 'street': '37 Avenue', 'zipcode': '11368'}, 'borough': 'Queens', 'cuisine': 'Chinese', 'grades': [{'date': datetime.datetime(2014, 4, 21, 0, 0), 'grade': 'A', 'score': 10}, {'date': datetime.datetime(2013, 11, 12, 0, 0), 'grade': 'A', 'score': 5}, {'date': datetime.datetime(2013, 6, 4, 0, 0), 'grade': 'A', 'score': 12}, {'date': datetime.datetime(2012, 11, 14, 0, 0), 'grade': 'A', 'score': 10}, {'date': datetime.datetime(2012, 10, 11, 0, 0), 'grade': 'P', 'score': 0}, {'date': datetime.datetime(2012, 5, 24, 0, 0), 'grade': 'A', 'score': 13}, {'date': datetime.datetime(2011, 12, 8, 0, 0), 'grade': 'A', 'score': 12}, {'date': datetime.datetime(2011, 7, 20, 0, 0), 'grade': 'A', 'score': 11}], 'name': 'Ho Mei Restaurant', 'restaurant_id': '40362432', 'countrycode': 'US'}, {'_id': ObjectId('5eb3d668b31de5d588f42948'), 'address': {'building': '56', 'coord': [-73.991495, 40.692273], 'street': 'Court Street', 'zipcode': '11201'}, 'borough': 'Brooklyn', 'cuisine': 'Donuts', 'grades': [{'date': datetime.datetime(2014, 12, 30, 0, 0), 'grade': 'A', 'score': 8}, {'date': datetime.datetime(2014, 1, 15, 0, 0), 'grade': 'A', 'score': 9}, {'date': datetime.datetime(2013, 1, 8, 0, 0), 'grade': 'A', 'score': 11}, {'date': datetime.datetime(2012, 1, 19, 0, 0), 'grade': 'A', 'score': 10}], 'name': \"Dunkin' Donuts\", 'restaurant_id': '40363098', 'countrycode': 'US'}, {'_id': ObjectId('5eb3d668b31de5d588f42949'), 'address': {'building': '7615', 'coord': [-74.0228449, 40.6281815], 'street': '5 Avenue', 'zipcode': '11209'}, 'borough': 'Brooklyn', 'cuisine': 'American', 'grades': [{'date': datetime.datetime(2014, 12, 4, 0, 0), 'grade': 'A', 'score': 10}, {'date': datetime.datetime(2013, 10, 24, 0, 0), 'grade': 'A', 'score': 11}, {'date': datetime.datetime(2013, 4, 18, 0, 0), 'grade': 'A', 'score': 5}, {'date': datetime.datetime(2012, 4, 5, 0, 0), 'grade': 'A', 'score': 13}], 'name': 'Mejlander & Mulgannon', 'restaurant_id': '40363117', 'countrycode': 'US'}, {'_id': ObjectId('5eb3d668b31de5d588f4294a'), 'address': {'building': '1006', 'coord': [-73.84856870000002, 40.8903781], 'street': 'East 233 Street', 'zipcode': '10466'}, 'borough': 'Bronx', 'cuisine': 'Ice Cream, Gelato, Yogurt, Ices', 'grades': [{'date': datetime.datetime(2014, 4, 24, 0, 0), 'grade': 'A', 'score': 10}, {'date': datetime.datetime(2013, 9, 5, 0, 0), 'grade': 'A', 'score': 10}, {'date': datetime.datetime(2013, 2, 21, 0, 0), 'grade': 'A', 'score': 9}, {'date': datetime.datetime(2012, 7, 3, 0, 0), 'grade': 'A', 'score': 11}, {'date': datetime.datetime(2011, 7, 11, 0, 0), 'grade': 'A', 'score': 5}], 'name': 'Carvel Ice Cream', 'restaurant_id': '40363093', 'countrycode': 'US'}, {'_id': ObjectId('5eb3d668b31de5d588f4294b'), 'address': {'building': '1236', 'coord': [-73.8893654, 40.81376179999999], 'street': '238 Spofford Ave', 'zipcode': '10474'}, 'borough': 'Bronx', 'cuisine': 'Chinese', 'grades': [{'date': datetime.datetime(2013, 12, 30, 0, 0), 'grade': 'A', 'score': 8}, {'date': datetime.datetime(2013, 1, 8, 0, 0), 'grade': 'A', 'score': 10}, {'date': datetime.datetime(2012, 6, 12, 0, 0), 'grade': 'B', 'score': 15}], 'name': 'Happy Garden', 'restaurant_id': '40363289', 'countrycode': 'US'}, {'_id': ObjectId('5eb3d668b31de5d588f4294c'), 'address': {'building': '120', 'coord': [-73.9998042, 40.7251256], 'street': 'Prince Street', 'zipcode': '10012'}, 'borough': 'Manhattan', 'cuisine': 'Bakery', 'grades': [{'date': datetime.datetime(2014, 10, 17, 0, 0), 'grade': 'A', 'score': 11}, {'date': datetime.datetime(2013, 9, 18, 0, 0), 'grade': 'A', 'score': 13}, {'date': datetime.datetime(2013, 4, 30, 0, 0), 'grade': 'A', 'score': 7}, {'date': datetime.datetime(2012, 4, 20, 0, 0), 'grade': 'A', 'score': 7}, {'date': datetime.datetime(2011, 12, 19, 0, 0), 'grade': 'A', 'score': 3}], 'name': \"Olive'S\", 'restaurant_id': '40363151', 'countrycode': 'US'}, {'_id': ObjectId('5eb3d668b31de5d588f4294d'), 'address': {'building': '107', 'coord': [-74.00920839999999, 40.7132925], 'street': 'Church Street', 'zipcode': '10007'}, 'borough': 'Manhattan', 'cuisine': 'American', 'grades': [{'date': datetime.datetime(2014, 7, 18, 0, 0), 'grade': 'A', 'score': 12}, {'date': datetime.datetime(2014, 2, 26, 0, 0), 'grade': 'A', 'score': 9}, {'date': datetime.datetime(2013, 8, 26, 0, 0), 'grade': 'A', 'score': 9}, {'date': datetime.datetime(2013, 2, 1, 0, 0), 'grade': 'A', 'score': 12}, {'date': datetime.datetime(2012, 1, 17, 0, 0), 'grade': 'A', 'score': 13}, {'date': datetime.datetime(2011, 10, 18, 0, 0), 'grade': 'A', 'score': 11}], 'name': 'Downtown Deli', 'restaurant_id': '40363021', 'countrycode': 'US'}, {'_id': ObjectId('5eb3d668b31de5d588f4294e'), 'address': {'building': '1069', 'coord': [-73.902463, 40.694924], 'street': 'Wyckoff Avenue', 'zipcode': '11385'}, 'borough': 'Queens', 'cuisine': 'Delicatessen', 'grades': [{'date': datetime.datetime(2014, 5, 8, 0, 0), 'grade': 'A', 'score': 11}, {'date': datetime.datetime(2013, 12, 12, 0, 0), 'grade': 'A', 'score': 8}, {'date': datetime.datetime(2013, 6, 21, 0, 0), 'grade': 'A', 'score': 12}, {'date': datetime.datetime(2012, 12, 24, 0, 0), 'grade': 'B', 'score': 25}, {'date': datetime.datetime(2011, 10, 19, 0, 0), 'grade': 'A', 'score': 11}, {'date': datetime.datetime(2011, 6, 15, 0, 0), 'grade': 'A', 'score': 10}], 'name': \"Tony'S Deli\", 'restaurant_id': '40363333', 'countrycode': 'US'}, {'_id': ObjectId('5eb3d668b31de5d588f4294f'), 'address': {'building': '625', 'coord': [-73.990494, 40.7569545], 'street': '8 Avenue', 'zipcode': '10018'}, 'borough': 'Manhattan', 'cuisine': 'American', 'grades': [{'date': datetime.datetime(2014, 6, 9, 0, 0), 'grade': 'A', 'score': 12}, {'date': datetime.datetime(2014, 1, 10, 0, 0), 'grade': 'A', 'score': 9}, {'date': datetime.datetime(2012, 12, 7, 0, 0), 'grade': 'A', 'score': 4}, {'date': datetime.datetime(2011, 12, 13, 0, 0), 'grade': 'A', 'score': 9}, {'date': datetime.datetime(2011, 9, 9, 0, 0), 'grade': 'A', 'score': 13}], 'name': 'Cafe Metro', 'restaurant_id': '40363298', 'countrycode': 'US'}, {'_id': ObjectId('5eb3d668b31de5d588f42950'), 'address': {'building': '2491', 'coord': [-74.1459332, 40.6103714], 'street': 'Victory Boulevard', 'zipcode': '10314'}, 'borough': 'Staten Island', 'cuisine': 'Delicatessen', 'grades': [{'date': datetime.datetime(2015, 1, 9, 0, 0), 'grade': 'A', 'score': 3}, {'date': datetime.datetime(2013, 12, 5, 0, 0), 'grade': 'A', 'score': 10}, {'date': datetime.datetime(2013, 6, 19, 0, 0), 'grade': 'A', 'score': 10}, {'date': datetime.datetime(2013, 1, 8, 0, 0), 'grade': 'A', 'score': 11}], 'name': 'Bagels N Buns', 'restaurant_id': '40363427', 'countrycode': 'US'}, {'_id': ObjectId('5eb3d668b31de5d588f42951'), 'address': {'building': '405', 'coord': [-73.97534999999999, 40.7516269], 'street': 'Lexington Avenue', 'zipcode': '10174'}, 'borough': 'Manhattan', 'cuisine': 'Sandwiches/Salads/Mixed Buffet', 'grades': [{'date': datetime.datetime(2014, 2, 21, 0, 0), 'grade': 'A', 'score': 3}, {'date': datetime.datetime(2013, 9, 13, 0, 0), 'grade': 'A', 'score': 3}, {'date': datetime.datetime(2012, 8, 28, 0, 0), 'grade': 'A', 'score': 0}, {'date': datetime.datetime(2011, 9, 13, 0, 0), 'grade': 'A', 'score': 12}, {'date': datetime.datetime(2011, 5, 3, 0, 0), 'grade': 'A', 'score': 5}], 'name': 'Lexler Deli', 'restaurant_id': '40363426', 'countrycode': 'US'}, {'_id': ObjectId('5eb3d668b31de5d588f42952'), 'address': {'building': '7905', 'coord': [-73.8740217, 40.7135015], 'street': 'Metropolitan Avenue', 'zipcode': '11379'}, 'borough': 'Queens', 'cuisine': 'Bagels/Pretzels', 'grades': [{'date': datetime.datetime(2014, 9, 17, 0, 0), 'grade': 'A', 'score': 10}, {'date': datetime.datetime(2014, 1, 16, 0, 0), 'grade': 'B', 'score': 23}, {'date': datetime.datetime(2013, 8, 7, 0, 0), 'grade': 'A', 'score': 10}, {'date': datetime.datetime(2013, 2, 21, 0, 0), 'grade': 'B', 'score': 27}, {'date': datetime.datetime(2012, 6, 20, 0, 0), 'grade': 'B', 'score': 27}, {'date': datetime.datetime(2012, 1, 31, 0, 0), 'grade': 'B', 'score': 18}], 'name': 'Hot Bagels', 'restaurant_id': '40363565', 'countrycode': 'US'}, {'_id': ObjectId('5eb3d668b31de5d588f42953'), 'address': {'building': '1111', 'coord': [-74.0796436, 40.59878339999999], 'street': 'Hylan Boulevard', 'zipcode': '10305'}, 'borough': 'Staten Island', 'cuisine': 'Ice Cream, Gelato, Yogurt, Ices', 'grades': [{'date': datetime.datetime(2014, 4, 24, 0, 0), 'grade': 'A', 'score': 12}, {'date': datetime.datetime(2013, 2, 26, 0, 0), 'grade': 'A', 'score': 5}, {'date': datetime.datetime(2012, 2, 2, 0, 0), 'grade': 'A', 'score': 2}], 'name': 'Carvel Ice Cream', 'restaurant_id': '40363834', 'countrycode': 'US'}, {'_id': ObjectId('5eb3d668b31de5d588f42954'), 'address': {'building': '87-69', 'coord': [-73.8309503, 40.7001121], 'street': 'Lefferts Boulevard', 'zipcode': '11418'}, 'borough': 'Queens', 'cuisine': 'American', 'grades': [{'date': datetime.datetime(2014, 2, 25, 0, 0), 'grade': 'A', 'score': 7}, {'date': datetime.datetime(2013, 8, 14, 0, 0), 'grade': 'A', 'score': 11}, {'date': datetime.datetime(2012, 8, 7, 0, 0), 'grade': 'A', 'score': 7}, {'date': datetime.datetime(2012, 3, 26, 0, 0), 'grade': 'A', 'score': 10}, {'date': datetime.datetime(2011, 11, 4, 0, 0), 'grade': 'A', 'score': 0}, {'date': datetime.datetime(2011, 6, 29, 0, 0), 'grade': 'A', 'score': 4}], 'name': 'Snack Time Grill', 'restaurant_id': '40363590', 'countrycode': 'US'}, {'_id': ObjectId('5eb3d668b31de5d588f42955'), 'address': {'building': '464', 'coord': [-73.9791458, 40.744328], 'street': '3 Avenue', 'zipcode': '10016'}, 'borough': 'Manhattan', 'cuisine': 'Pizza', 'grades': [{'date': datetime.datetime(2014, 8, 5, 0, 0), 'grade': 'A', 'score': 3}, {'date': datetime.datetime(2014, 3, 6, 0, 0), 'grade': 'A', 'score': 11}, {'date': datetime.datetime(2013, 7, 9, 0, 0), 'grade': 'A', 'score': 12}, {'date': datetime.datetime(2013, 1, 30, 0, 0), 'grade': 'A', 'score': 4}, {'date': datetime.datetime(2012, 1, 5, 0, 0), 'grade': 'A', 'score': 2}, {'date': datetime.datetime(2011, 9, 26, 0, 0), 'grade': 'A', 'score': 0}], 'name': \"Domino'S Pizza\", 'restaurant_id': '40363644', 'countrycode': 'US'}, {'_id': ObjectId('5eb3d668b31de5d588f42956'), 'address': {'building': '148', 'coord': [-73.9806854, 40.7778589], 'street': 'West   72 Street', 'zipcode': '10023'}, 'borough': 'Manhattan', 'cuisine': 'Pizza', 'grades': [{'date': datetime.datetime(2014, 12, 8, 0, 0), 'grade': 'A', 'score': 13}, {'date': datetime.datetime(2014, 5, 5, 0, 0), 'grade': 'B', 'score': 18}, {'date': datetime.datetime(2013, 4, 5, 0, 0), 'grade': 'A', 'score': 13}, {'date': datetime.datetime(2012, 3, 30, 0, 0), 'grade': 'A', 'score': 9}], 'name': \"Domino'S Pizza\", 'restaurant_id': '40363945', 'countrycode': 'US'}, {'_id': ObjectId('5eb3d668b31de5d588f42957'), 'address': {'building': '1423', 'coord': [-73.9615132, 40.6253268], 'street': 'Avenue J', 'zipcode': '11230'}, 'borough': 'Brooklyn', 'cuisine': 'Jewish/Kosher', 'grades': [{'date': datetime.datetime(2014, 12, 19, 0, 0), 'grade': 'A', 'score': 10}, {'date': datetime.datetime(2013, 12, 5, 0, 0), 'grade': 'A', 'score': 11}, {'date': datetime.datetime(2012, 12, 6, 0, 0), 'grade': 'A', 'score': 9}], 'name': 'Kosher Bagel Hole', 'restaurant_id': '40364220', 'countrycode': 'US'}, {'_id': ObjectId('5eb3d668b31de5d588f42958'), 'address': {'building': '1418', 'coord': [-73.95685019999999, 40.7753401], 'street': 'Third Avenue', 'zipcode': '10028'}, 'borough': 'Manhattan', 'cuisine': 'Continental', 'grades': [{'date': datetime.datetime(2014, 6, 2, 0, 0), 'grade': 'A', 'score': 9}, {'date': datetime.datetime(2013, 12, 27, 0, 0), 'grade': 'A', 'score': 8}, {'date': datetime.datetime(2013, 3, 18, 0, 0), 'grade': 'B', 'score': 26}, {'date': datetime.datetime(2012, 2, 1, 0, 0), 'grade': 'A', 'score': 7}, {'date': datetime.datetime(2011, 7, 6, 0, 0), 'grade': 'B', 'score': 25}], 'name': \"Lorenzo & Maria'S\", 'restaurant_id': '40363630', 'countrycode': 'US'}, {'_id': ObjectId('5eb3d668b31de5d588f42959'), 'address': {'building': '364', 'coord': [-73.96084119999999, 40.8014307], 'street': 'West  110 Street', 'zipcode': '10025'}, 'borough': 'Manhattan', 'cuisine': 'American', 'grades': [{'date': datetime.datetime(2014, 9, 4, 0, 0), 'grade': 'B', 'score': 20}, {'date': datetime.datetime(2014, 2, 26, 0, 0), 'grade': 'B', 'score': 23}, {'date': datetime.datetime(2013, 3, 25, 0, 0), 'grade': 'A', 'score': 12}, {'date': datetime.datetime(2012, 2, 21, 0, 0), 'grade': 'A', 'score': 8}], 'name': 'Spoon Bread Catering', 'restaurant_id': '40364179', 'countrycode': 'US'}, {'_id': ObjectId('5eb3d668b31de5d588f4295a'), 'address': {'building': '0', 'coord': [-84.2040813, 9.9986585], 'street': 'Guardia Airport Parking', 'zipcode': '11371'}, 'borough': 'Queens', 'cuisine': 'American', 'grades': [{'date': datetime.datetime(2014, 5, 16, 0, 0), 'grade': 'A', 'score': 9}, {'date': datetime.datetime(2013, 5, 10, 0, 0), 'grade': 'A', 'score': 10}, {'date': datetime.datetime(2012, 5, 15, 0, 0), 'grade': 'A', 'score': 9}, {'date': datetime.datetime(2011, 11, 2, 0, 0), 'grade': 'C', 'score': 32}], 'name': 'Terminal Cafe/Yankee Clipper', 'restaurant_id': '40364262', 'countrycode': 'US'}, {'_id': ObjectId('5eb3d668b31de5d588f4295b'), 'address': {'building': '1031', 'coord': [-73.9075537, 40.6438684], 'street': 'East   92 Street', 'zipcode': '11236'}, 'borough': 'Brooklyn', 'cuisine': 'American', 'grades': [{'date': datetime.datetime(2014, 2, 5, 0, 0), 'grade': 'A', 'score': 0}, {'date': datetime.datetime(2013, 1, 29, 0, 0), 'grade': 'A', 'score': 3}, {'date': datetime.datetime(2011, 12, 8, 0, 0), 'grade': 'A', 'score': 10}], 'name': \"Sonny'S Heros\", 'restaurant_id': '40363744', 'countrycode': 'US'}, {'_id': ObjectId('5eb3d668b31de5d588f4295c'), 'address': {'building': '277', 'coord': [-73.8941893, 40.8634684], 'street': 'East Kingsbridge Road', 'zipcode': '10458'}, 'borough': 'Bronx', 'cuisine': 'Chinese', 'grades': [{'date': datetime.datetime(2014, 3, 3, 0, 0), 'grade': 'A', 'score': 10}, {'date': datetime.datetime(2013, 9, 26, 0, 0), 'grade': 'A', 'score': 10}, {'date': datetime.datetime(2013, 3, 19, 0, 0), 'grade': 'A', 'score': 10}, {'date': datetime.datetime(2012, 8, 29, 0, 0), 'grade': 'A', 'score': 11}, {'date': datetime.datetime(2011, 8, 17, 0, 0), 'grade': 'A', 'score': 13}], 'name': 'Happy Garden', 'restaurant_id': '40364296', 'countrycode': 'US'}, {'_id': ObjectId('5eb3d668b31de5d588f4295d'), 'address': {'building': '203', 'coord': [-74.15235919999999, 40.5563756], 'street': 'Giffords Lane', 'zipcode': '10308'}, 'borough': 'Staten Island', 'cuisine': 'Delicatessen', 'grades': [{'date': datetime.datetime(2015, 1, 5, 0, 0), 'grade': 'A', 'score': 4}, {'date': datetime.datetime(2014, 9, 11, 0, 0), 'grade': 'C', 'score': 39}, {'date': datetime.datetime(2014, 3, 20, 0, 0), 'grade': 'A', 'score': 12}, {'date': datetime.datetime(2013, 1, 24, 0, 0), 'grade': 'A', 'score': 13}, {'date': datetime.datetime(2012, 5, 23, 0, 0), 'grade': 'A', 'score': 10}], 'name': 'B & M Hot Bagel & Grocery', 'restaurant_id': '40364299', 'countrycode': 'US'}, {'_id': ObjectId('5eb3d668b31de5d588f4295e'), 'address': {'building': '73', 'coord': [-74.1178949, 40.5734906], 'street': 'New Dorp Plaza', 'zipcode': '10306'}, 'borough': 'Staten Island', 'cuisine': 'Delicatessen', 'grades': [{'date': datetime.datetime(2014, 11, 18, 0, 0), 'grade': 'A', 'score': 12}, {'date': datetime.datetime(2013, 11, 7, 0, 0), 'grade': 'A', 'score': 12}, {'date': datetime.datetime(2013, 4, 24, 0, 0), 'grade': 'A', 'score': 7}, {'date': datetime.datetime(2012, 3, 20, 0, 0), 'grade': 'A', 'score': 5}], 'name': 'Plaza Bagels & Deli', 'restaurant_id': '40364286', 'countrycode': 'US'}, {'_id': ObjectId('5eb3d668b31de5d588f4295f'), 'address': {'building': '976', 'coord': [-73.92701509999999, 40.6620192], 'street': 'Rutland Road', 'zipcode': '11212'}, 'borough': 'Brooklyn', 'cuisine': 'Chinese', 'grades': [{'date': datetime.datetime(2014, 4, 23, 0, 0), 'grade': 'A', 'score': 13}, {'date': datetime.datetime(2013, 3, 26, 0, 0), 'grade': 'A', 'score': 10}, {'date': datetime.datetime(2012, 3, 13, 0, 0), 'grade': 'A', 'score': 4}, {'date': datetime.datetime(2011, 11, 16, 0, 0), 'grade': 'A', 'score': 13}], 'name': 'Golden Pavillion', 'restaurant_id': '40363920', 'countrycode': 'US'}, {'_id': ObjectId('5eb3d668b31de5d588f42960'), 'address': {'building': '437', 'coord': [-73.975393, 40.757365], 'street': 'Madison Avenue', 'zipcode': '10022'}, 'borough': 'Manhattan', 'cuisine': 'American', 'grades': [{'date': datetime.datetime(2014, 6, 3, 0, 0), 'grade': 'A', 'score': 9}, {'date': datetime.datetime(2013, 6, 7, 0, 0), 'grade': 'A', 'score': 5}, {'date': datetime.datetime(2012, 6, 29, 0, 0), 'grade': 'A', 'score': 12}, {'date': datetime.datetime(2012, 2, 6, 0, 0), 'grade': 'A', 'score': 11}, {'date': datetime.datetime(2011, 6, 23, 0, 0), 'grade': 'A', 'score': 13}], 'name': 'Berkely', 'restaurant_id': '40363685', 'countrycode': 'US'}, {'_id': ObjectId('5eb3d668b31de5d588f42961'), 'address': {'building': '658', 'coord': [-73.81363999999999, 40.82941100000001], 'street': 'Clarence Ave', 'zipcode': '10465'}, 'borough': 'Bronx', 'cuisine': 'American', 'grades': [{'date': datetime.datetime(2014, 6, 21, 0, 0), 'grade': 'A', 'score': 5}, {'date': datetime.datetime(2012, 7, 11, 0, 0), 'grade': 'A', 'score': 10}], 'name': 'Manhem Club', 'restaurant_id': '40364363', 'countrycode': 'US'}, {'_id': ObjectId('5eb3d668b31de5d588f42962'), 'address': {'building': '10004', 'coord': [-74.03400479999999, 40.6127077], 'street': '4 Avenue', 'zipcode': '11209'}, 'borough': 'Brooklyn', 'cuisine': 'Italian', 'grades': [{'date': datetime.datetime(2014, 2, 25, 0, 0), 'grade': 'A', 'score': 12}, {'date': datetime.datetime(2013, 6, 27, 0, 0), 'grade': 'A', 'score': 7}, {'date': datetime.datetime(2012, 12, 3, 0, 0), 'grade': 'A', 'score': 10}, {'date': datetime.datetime(2011, 11, 9, 0, 0), 'grade': 'A', 'score': 12}], 'name': 'Philadelhia Grille Express', 'restaurant_id': '40364305', 'countrycode': 'US'}, {'_id': ObjectId('5eb3d668b31de5d588f42963'), 'address': {'building': '94', 'coord': [-74.0061936, 40.7092038], 'street': 'Fulton Street', 'zipcode': '10038'}, 'borough': 'Manhattan', 'cuisine': 'Chicken', 'grades': [{'date': datetime.datetime(2015, 1, 6, 0, 0), 'grade': 'A', 'score': 12}, {'date': datetime.datetime(2014, 7, 15, 0, 0), 'grade': 'C', 'score': 48}, {'date': datetime.datetime(2013, 5, 2, 0, 0), 'grade': 'A', 'score': 13}, {'date': datetime.datetime(2012, 9, 24, 0, 0), 'grade': 'A', 'score': 8}, {'date': datetime.datetime(2012, 4, 19, 0, 0), 'grade': 'A', 'score': 7}], 'name': 'Texas Rotisserie', 'restaurant_id': '40364304', 'countrycode': 'US'}, {'_id': ObjectId('5eb3d668b31de5d588f42964'), 'address': {'building': '837', 'coord': [-73.9712, 40.751703], 'street': '2 Avenue', 'zipcode': '10017'}, 'borough': 'Manhattan', 'cuisine': 'American', 'grades': [{'date': datetime.datetime(2014, 7, 22, 0, 0), 'grade': 'B', 'score': 19}, {'date': datetime.datetime(2013, 9, 26, 0, 0), 'grade': 'A', 'score': 12}, {'date': datetime.datetime(2013, 2, 26, 0, 0), 'grade': 'A', 'score': 11}, {'date': datetime.datetime(2012, 4, 30, 0, 0), 'grade': 'A', 'score': 8}, {'date': datetime.datetime(2011, 10, 5, 0, 0), 'grade': 'A', 'score': 12}], 'name': 'Palm Restaurant', 'restaurant_id': '40364355', 'countrycode': 'US'}, {'_id': ObjectId('5eb3d668b31de5d588f42965'), 'address': {'building': '1028', 'coord': [-73.966032, 40.762832], 'street': '3 Avenue', 'zipcode': '10065'}, 'borough': 'Manhattan', 'cuisine': 'Italian', 'grades': [{'date': datetime.datetime(2014, 9, 16, 0, 0), 'grade': 'A', 'score': 13}, {'date': datetime.datetime(2014, 2, 24, 0, 0), 'grade': 'A', 'score': 10}, {'date': datetime.datetime(2013, 5, 3, 0, 0), 'grade': 'A', 'score': 10}, {'date': datetime.datetime(2012, 8, 20, 0, 0), 'grade': 'A', 'score': 7}, {'date': datetime.datetime(2012, 2, 13, 0, 0), 'grade': 'A', 'score': 9}], 'name': 'Isle Of Capri Resturant', 'restaurant_id': '40364373', 'countrycode': 'US'}, {'_id': ObjectId('5eb3d668b31de5d588f42966'), 'address': {'building': '178', 'coord': [-73.96252129999999, 40.7098035], 'street': 'Broadway', 'zipcode': '11211'}, 'borough': 'Brooklyn', 'cuisine': 'Steak', 'grades': [{'date': datetime.datetime(2014, 3, 8, 0, 0), 'grade': 'A', 'score': 12}, {'date': datetime.datetime(2013, 9, 28, 0, 0), 'grade': 'A', 'score': 10}, {'date': datetime.datetime(2013, 3, 26, 0, 0), 'grade': 'A', 'score': 3}, {'date': datetime.datetime(2012, 9, 10, 0, 0), 'grade': 'A', 'score': 12}, {'date': datetime.datetime(2011, 8, 15, 0, 0), 'grade': 'A', 'score': 13}], 'name': 'Peter Luger Steakhouse', 'restaurant_id': '40364335', 'countrycode': 'US'}, {'_id': ObjectId('5eb3d668b31de5d588f42967'), 'address': {'building': '1', 'coord': [-73.97166039999999, 40.764832], 'street': 'East   60 Street', 'zipcode': '10022'}, 'borough': 'Manhattan', 'cuisine': 'American', 'grades': [{'date': datetime.datetime(2014, 10, 16, 0, 0), 'grade': 'B', 'score': 24}, {'date': datetime.datetime(2014, 5, 2, 0, 0), 'grade': 'A', 'score': 4}, {'date': datetime.datetime(2013, 4, 2, 0, 0), 'grade': 'A', 'score': 13}, {'date': datetime.datetime(2012, 10, 19, 0, 0), 'grade': 'A', 'score': 12}, {'date': datetime.datetime(2012, 4, 27, 0, 0), 'grade': 'B', 'score': 17}, {'date': datetime.datetime(2011, 11, 29, 0, 0), 'grade': 'A', 'score': 11}], 'name': 'Metropolitan Club', 'restaurant_id': '40364347', 'countrycode': 'US'}, {'_id': ObjectId('5eb3d668b31de5d588f42968'), 'address': {'building': '21', 'coord': [-73.9774394, 40.7604522], 'street': 'West   52 Street', 'zipcode': '10019'}, 'borough': 'Manhattan', 'cuisine': 'American', 'grades': [{'date': datetime.datetime(2014, 5, 14, 0, 0), 'grade': 'A', 'score': 12}, {'date': datetime.datetime(2013, 8, 13, 0, 0), 'grade': 'A', 'score': 12}, {'date': datetime.datetime(2012, 4, 4, 0, 0), 'grade': 'A', 'score': 12}], 'name': '21 Club', 'restaurant_id': '40364362', 'countrycode': 'US'}, {'_id': ObjectId('5eb3d668b31de5d588f42969'), 'address': {'building': '100', 'coord': [-74.0010484, 40.71599000000001], 'street': 'Centre Street', 'zipcode': '10013'}, 'borough': 'Manhattan', 'cuisine': 'American', 'grades': [{'date': datetime.datetime(2014, 3, 3, 0, 0), 'grade': 'A', 'score': 8}, {'date': datetime.datetime(2013, 3, 8, 0, 0), 'grade': 'A', 'score': 12}, {'date': datetime.datetime(2012, 3, 9, 0, 0), 'grade': 'A', 'score': 13}, {'date': datetime.datetime(2011, 3, 31, 0, 0), 'grade': 'A', 'score': 12}], 'name': 'Criminal Court Bldg Cafeteria', 'restaurant_id': '40364443', 'countrycode': 'US'}, {'_id': ObjectId('5eb3d668b31de5d588f4296a'), 'address': {'building': '657', 'coord': [-73.9056678, 40.7066898], 'street': 'Fairview Avenue', 'zipcode': '11385'}, 'borough': 'Queens', 'cuisine': 'German', 'grades': [{'date': datetime.datetime(2014, 3, 15, 0, 0), 'grade': 'A', 'score': 11}, {'date': datetime.datetime(2013, 3, 12, 0, 0), 'grade': 'A', 'score': 2}, {'date': datetime.datetime(2012, 7, 21, 0, 0), 'grade': 'B', 'score': 27}, {'date': datetime.datetime(2011, 11, 25, 0, 0), 'grade': 'B', 'score': 24}, {'date': datetime.datetime(2011, 6, 22, 0, 0), 'grade': 'B', 'score': 20}], 'name': 'Gottscheer Hall', 'restaurant_id': '40364449', 'countrycode': 'US'}, {'_id': ObjectId('5eb3d668b31de5d588f4296b'), 'address': {'building': '45', 'coord': [-73.9891878, 40.7375638], 'street': 'East   18 Street', 'zipcode': '10003'}, 'borough': 'Manhattan', 'cuisine': 'American', 'grades': [{'date': datetime.datetime(2014, 10, 8, 0, 0), 'grade': 'A', 'score': 10}, {'date': datetime.datetime(2013, 10, 10, 0, 0), 'grade': 'A', 'score': 9}, {'date': datetime.datetime(2013, 4, 24, 0, 0), 'grade': 'C', 'score': 36}, {'date': datetime.datetime(2012, 1, 9, 0, 0), 'grade': 'A', 'score': 9}], 'name': 'Old Town Bar & Restaurant', 'restaurant_id': '40364389', 'countrycode': 'US'}, {'_id': ObjectId('5eb3d668b31de5d588f4296c'), 'address': {'building': '108', 'coord': [-73.98146, 40.7250067], 'street': 'Avenue B', 'zipcode': '10009'}, 'borough': 'Manhattan', 'cuisine': 'American', 'grades': [{'date': datetime.datetime(2014, 7, 14, 0, 0), 'grade': 'B', 'score': 17}, {'date': datetime.datetime(2013, 12, 31, 0, 0), 'grade': 'A', 'score': 12}, {'date': datetime.datetime(2012, 10, 22, 0, 0), 'grade': 'A', 'score': 12}, {'date': datetime.datetime(2012, 5, 7, 0, 0), 'grade': 'A', 'score': 13}, {'date': datetime.datetime(2011, 10, 14, 0, 0), 'grade': 'A', 'score': 12}], 'name': '7B Bar', 'restaurant_id': '40364518', 'countrycode': 'US'}, {'_id': ObjectId('5eb3d668b31de5d588f4296d'), 'address': {'building': '180', 'coord': [-73.9788694, 40.7665961], 'street': 'Central Park South', 'zipcode': '10019'}, 'borough': 'Manhattan', 'cuisine': 'American', 'grades': [{'date': datetime.datetime(2014, 12, 15, 0, 0), 'grade': 'A', 'score': 12}, {'date': datetime.datetime(2014, 8, 7, 0, 0), 'grade': 'C', 'score': 40}, {'date': datetime.datetime(2013, 7, 29, 0, 0), 'grade': 'A', 'score': 2}, {'date': datetime.datetime(2012, 12, 13, 0, 0), 'grade': 'A', 'score': 11}, {'date': datetime.datetime(2012, 7, 30, 0, 0), 'grade': 'C', 'score': 4}, {'date': datetime.datetime(2012, 2, 16, 0, 0), 'grade': 'A', 'score': 2}], 'name': 'Nyac Main Dining Room', 'restaurant_id': '40364467', 'countrycode': 'US'}, {'_id': ObjectId('5eb3d668b31de5d588f4296e'), 'address': {'building': '96-40', 'coord': [-73.86137149999999, 40.7293762], 'street': 'Queens Boulevard', 'zipcode': '11374'}, 'borough': 'Queens', 'cuisine': 'Jewish/Kosher', 'grades': [{'date': datetime.datetime(2014, 3, 13, 0, 0), 'grade': 'A', 'score': 11}, {'date': datetime.datetime(2013, 9, 30, 0, 0), 'grade': 'A', 'score': 9}, {'date': datetime.datetime(2013, 4, 26, 0, 0), 'grade': 'A', 'score': 8}, {'date': datetime.datetime(2012, 9, 11, 0, 0), 'grade': 'B', 'score': 24}, {'date': datetime.datetime(2011, 9, 19, 0, 0), 'grade': 'A', 'score': 10}, {'date': datetime.datetime(2011, 3, 17, 0, 0), 'grade': 'A', 'score': 12}], 'name': 'Ben-Best Deli & Restaurant', 'restaurant_id': '40364529', 'countrycode': 'US'}, {'_id': ObjectId('5eb3d668b31de5d588f4296f'), 'address': {'building': '215', 'coord': [-73.9805679, 40.7659436], 'street': 'West 57 Street', 'zipcode': '10019'}, 'borough': 'Manhattan', 'cuisine': 'American', 'grades': [{'date': datetime.datetime(2014, 9, 25, 0, 0), 'grade': 'A', 'score': 12}, {'date': datetime.datetime(2014, 2, 14, 0, 0), 'grade': 'A', 'score': 12}, {'date': datetime.datetime(2013, 8, 9, 0, 0), 'grade': 'A', 'score': 2}, {'date': datetime.datetime(2013, 2, 22, 0, 0), 'grade': 'B', 'score': 20}, {'date': datetime.datetime(2012, 2, 16, 0, 0), 'grade': 'A', 'score': 8}], 'name': 'Cafe Atelier (Art Students League)', 'restaurant_id': '40364531', 'countrycode': 'US'}, {'_id': ObjectId('5eb3d668b31de5d588f42970'), 'address': {'building': '845', 'coord': [-73.965531, 40.765431], 'street': 'Lexington Avenue', 'zipcode': '10065'}, 'borough': 'Manhattan', 'cuisine': 'Steak', 'grades': [{'date': datetime.datetime(2014, 3, 26, 0, 0), 'grade': 'A', 'score': 12}, {'date': datetime.datetime(2013, 3, 21, 0, 0), 'grade': 'A', 'score': 8}, {'date': datetime.datetime(2012, 10, 18, 0, 0), 'grade': 'A', 'score': 9}, {'date': datetime.datetime(2012, 5, 7, 0, 0), 'grade': 'A', 'score': 3}, {'date': datetime.datetime(2011, 5, 17, 0, 0), 'grade': 'A', 'score': 5}], 'name': \"Donohue'S Steak House\", 'restaurant_id': '40364572', 'countrycode': 'US'}, {'_id': ObjectId('5eb3d668b31de5d588f42971'), 'address': {'building': '386', 'coord': [-73.9818918, 40.6901211], 'street': 'Flatbush Avenue Extension', 'zipcode': '11201'}, 'borough': 'Brooklyn', 'cuisine': 'American', 'grades': [{'date': datetime.datetime(2014, 11, 14, 0, 0), 'grade': 'A', 'score': 11}, {'date': datetime.datetime(2014, 3, 10, 0, 0), 'grade': 'A', 'score': 7}, {'date': datetime.datetime(2013, 1, 10, 0, 0), 'grade': 'A', 'score': 3}, {'date': datetime.datetime(2012, 9, 4, 0, 0), 'grade': 'A', 'score': 7}], 'name': \"Junior'S\", 'restaurant_id': '40364581', 'countrycode': 'US'}, {'_id': ObjectId('5eb3d668b31de5d588f42972'), 'address': {'building': '37', 'coord': [-74.138263, 40.546681], 'street': 'Mansion Ave', 'zipcode': '10308'}, 'borough': 'Staten Island', 'cuisine': 'American', 'grades': [{'date': datetime.datetime(2014, 4, 22, 0, 0), 'grade': 'A', 'score': 10}, {'date': datetime.datetime(2013, 9, 25, 0, 0), 'grade': 'A', 'score': 4}, {'date': datetime.datetime(2012, 6, 9, 0, 0), 'grade': 'A', 'score': 8}], 'name': 'Great Kills Yacht Club', 'restaurant_id': '40364610', 'countrycode': 'US'}, {'_id': ObjectId('5eb3d668b31de5d588f42973'), 'address': {'building': '311', 'coord': [-73.98621899999999, 40.763406], 'street': 'West   51 Street', 'zipcode': '10019'}, 'borough': 'Manhattan', 'cuisine': 'French', 'grades': [{'date': datetime.datetime(2014, 11, 10, 0, 0), 'grade': 'B', 'score': 15}, {'date': datetime.datetime(2014, 4, 3, 0, 0), 'grade': 'A', 'score': 13}, {'date': datetime.datetime(2013, 7, 17, 0, 0), 'grade': 'C', 'score': 36}, {'date': datetime.datetime(2013, 2, 6, 0, 0), 'grade': 'B', 'score': 22}, {'date': datetime.datetime(2012, 7, 16, 0, 0), 'grade': 'C', 'score': 36}, {'date': datetime.datetime(2012, 3, 8, 0, 0), 'grade': 'C', 'score': 7}], 'name': 'Tout Va Bien', 'restaurant_id': '40364576', 'countrycode': 'US'}, {'_id': ObjectId('5eb3d668b31de5d588f42974'), 'address': {'building': '251', 'coord': [-73.9775552, 40.7432016], 'street': 'East   31 Street', 'zipcode': '10016'}, 'borough': 'Manhattan', 'cuisine': 'Italian', 'grades': [{'date': datetime.datetime(2014, 4, 22, 0, 0), 'grade': 'A', 'score': 13}, {'date': datetime.datetime(2013, 6, 19, 0, 0), 'grade': 'C', 'score': 32}, {'date': datetime.datetime(2012, 5, 22, 0, 0), 'grade': 'A', 'score': 12}], 'name': 'Marchis Restaurant', 'restaurant_id': '40364668', 'countrycode': 'US'}, {'_id': ObjectId('5eb3d668b31de5d588f42975'), 'address': {'building': '261', 'coord': [-73.94839189999999, 40.7224876], 'street': 'Driggs Avenue', 'zipcode': '11222'}, 'borough': 'Brooklyn', 'cuisine': 'Polish', 'grades': [{'date': datetime.datetime(2014, 5, 31, 0, 0), 'grade': 'A', 'score': 2}, {'date': datetime.datetime(2013, 5, 10, 0, 0), 'grade': 'A', 'score': 3}, {'date': datetime.datetime(2012, 2, 17, 0, 0), 'grade': 'A', 'score': 6}, {'date': datetime.datetime(2011, 10, 14, 0, 0), 'grade': 'C', 'score': 54}], 'name': 'Polish National Home', 'restaurant_id': '40364404', 'countrycode': 'US'}, {'_id': ObjectId('5eb3d668b31de5d588f42976'), 'address': {'building': '62', 'coord': [-74.00310999999999, 40.7348888], 'street': 'Charles Street', 'zipcode': '10014'}, 'borough': 'Manhattan', 'cuisine': 'Latin (Cuban, Dominican, Puerto Rican, South & Central American)', 'grades': [{'date': datetime.datetime(2014, 5, 2, 0, 0), 'grade': 'A', 'score': 11}, {'date': datetime.datetime(2013, 5, 20, 0, 0), 'grade': 'A', 'score': 11}, {'date': datetime.datetime(2012, 5, 24, 0, 0), 'grade': 'A', 'score': 7}, {'date': datetime.datetime(2012, 1, 18, 0, 0), 'grade': 'A', 'score': 13}, {'date': datetime.datetime(2011, 10, 3, 0, 0), 'grade': 'A', 'score': 10}], 'name': 'Seville Restaurant', 'restaurant_id': '40364439', 'countrycode': 'US'}, {'_id': ObjectId('5eb3d668b31de5d588f42977'), 'address': {'building': '56', 'coord': [-74.004758, 40.741207], 'street': '9 Avenue', 'zipcode': '10011'}, 'borough': 'Manhattan', 'cuisine': 'American', 'grades': [{'date': datetime.datetime(2014, 6, 10, 0, 0), 'grade': 'A', 'score': 9}, {'date': datetime.datetime(2013, 6, 10, 0, 0), 'grade': 'A', 'score': 12}, {'date': datetime.datetime(2012, 9, 26, 0, 0), 'grade': 'B', 'score': 24}, {'date': datetime.datetime(2012, 5, 24, 0, 0), 'grade': 'A', 'score': 12}, {'date': datetime.datetime(2011, 11, 14, 0, 0), 'grade': 'A', 'score': 2}], 'name': 'Old Homestead', 'restaurant_id': '40364715', 'countrycode': 'US'}, {'_id': ObjectId('5eb3d668b31de5d588f42978'), 'address': {'building': '2602', 'coord': [-73.95443709999999, 40.5877993], 'street': 'East   15 Street', 'zipcode': '11235'}, 'borough': 'Brooklyn', 'cuisine': 'American', 'grades': [{'date': datetime.datetime(2014, 5, 14, 0, 0), 'grade': 'A', 'score': 11}, {'date': datetime.datetime(2013, 4, 27, 0, 0), 'grade': 'A', 'score': 9}, {'date': datetime.datetime(2012, 11, 23, 0, 0), 'grade': 'B', 'score': 27}, {'date': datetime.datetime(2012, 3, 14, 0, 0), 'grade': 'B', 'score': 17}, {'date': datetime.datetime(2011, 7, 14, 0, 0), 'grade': 'B', 'score': 21}], 'name': 'Towne Cafe', 'restaurant_id': '40364681', 'countrycode': 'US'}, {'_id': ObjectId('5eb3d668b31de5d588f42979'), 'address': {'building': '156-71', 'coord': [-73.840437, 40.6627235], 'street': 'Crossbay Boulevard', 'zipcode': '11414'}, 'borough': 'Queens', 'cuisine': 'Pizza/Italian', 'grades': [{'date': datetime.datetime(2014, 10, 29, 0, 0), 'grade': 'A', 'score': 11}, {'date': datetime.datetime(2013, 10, 30, 0, 0), 'grade': 'A', 'score': 9}, {'date': datetime.datetime(2013, 6, 12, 0, 0), 'grade': 'A', 'score': 12}, {'date': datetime.datetime(2012, 3, 27, 0, 0), 'grade': 'A', 'score': 9}], 'name': 'New Park Pizzeria & Restaurant', 'restaurant_id': '40364744', 'countrycode': 'US'}, {'_id': ObjectId('5eb3d668b31de5d588f4297a'), 'address': {'building': '461', 'coord': [-74.002944, 40.652779], 'street': '37 Street', 'zipcode': '11232'}, 'borough': 'Brooklyn', 'cuisine': 'American', 'grades': [{'date': datetime.datetime(2014, 11, 28, 0, 0), 'grade': 'A', 'score': 12}, {'date': datetime.datetime(2013, 12, 4, 0, 0), 'grade': 'A', 'score': 13}, {'date': datetime.datetime(2012, 12, 6, 0, 0), 'grade': 'A', 'score': 12}, {'date': datetime.datetime(2011, 12, 6, 0, 0), 'grade': 'A', 'score': 12}], 'name': 'Melody Lanes', 'restaurant_id': '40364889', 'countrycode': 'US'}, {'_id': ObjectId('5eb3d668b31de5d588f4297b'), 'address': {'building': '600', 'coord': [-73.7522366, 40.7766941], 'street': 'West Drive', 'zipcode': '11363'}, 'borough': 'Queens', 'cuisine': 'American', 'grades': [{'date': datetime.datetime(2013, 12, 4, 0, 0), 'grade': 'A', 'score': 13}, {'date': datetime.datetime(2013, 6, 13, 0, 0), 'grade': 'A', 'score': 13}, {'date': datetime.datetime(2012, 12, 6, 0, 0), 'grade': 'A', 'score': 9}, {'date': datetime.datetime(2012, 4, 12, 0, 0), 'grade': 'A', 'score': 2}, {'date': datetime.datetime(2011, 7, 30, 0, 0), 'grade': 'B', 'score': 23}], 'name': 'Douglaston Club', 'restaurant_id': '40364858', 'countrycode': 'US'}, {'_id': ObjectId('5eb3d668b31de5d588f4297c'), 'address': {'building': '.1-A', 'coord': [-48.9424, -16.3550032], 'street': 'East 77 St', 'zipcode': '10021'}, 'borough': 'Manhattan', 'cuisine': 'Continental', 'grades': [{'date': datetime.datetime(2014, 11, 24, 0, 0), 'grade': 'A', 'score': 13}, {'date': datetime.datetime(2013, 10, 10, 0, 0), 'grade': 'A', 'score': 13}, {'date': datetime.datetime(2013, 4, 3, 0, 0), 'grade': 'B', 'score': 18}, {'date': datetime.datetime(2012, 10, 2, 0, 0), 'grade': 'A', 'score': 9}, {'date': datetime.datetime(2012, 4, 25, 0, 0), 'grade': 'A', 'score': 8}], 'name': 'Dining Room', 'restaurant_id': '40364691', 'countrycode': 'US'}, {'_id': ObjectId('5eb3d668b31de5d588f4297d'), 'address': {'building': '567', 'coord': [-74.00619499999999, 40.735663], 'street': 'Hudson Street', 'zipcode': '10014'}, 'borough': 'Manhattan', 'cuisine': 'American', 'grades': [{'date': datetime.datetime(2014, 7, 28, 0, 0), 'grade': 'A', 'score': 2}, {'date': datetime.datetime(2013, 7, 25, 0, 0), 'grade': 'A', 'score': 7}, {'date': datetime.datetime(2013, 2, 5, 0, 0), 'grade': 'A', 'score': 2}, {'date': datetime.datetime(2012, 5, 29, 0, 0), 'grade': 'A', 'score': 6}, {'date': datetime.datetime(2011, 12, 23, 0, 0), 'grade': 'A', 'score': 5}], 'name': 'White Horse Tavern', 'restaurant_id': '40364958', 'countrycode': 'US'}, {'_id': ObjectId('5eb3d668b31de5d588f4297e'), 'address': {'building': '2222', 'coord': [-73.84971759999999, 40.8304811], 'street': 'Haviland Avenue', 'zipcode': '10462'}, 'borough': 'Bronx', 'cuisine': 'American', 'grades': [{'date': datetime.datetime(2014, 12, 18, 0, 0), 'grade': 'A', 'score': 7}, {'date': datetime.datetime(2014, 5, 1, 0, 0), 'grade': 'B', 'score': 17}, {'date': datetime.datetime(2013, 3, 14, 0, 0), 'grade': 'A', 'score': 12}, {'date': datetime.datetime(2012, 9, 20, 0, 0), 'grade': 'A', 'score': 9}, {'date': datetime.datetime(2012, 2, 8, 0, 0), 'grade': 'B', 'score': 19}], 'name': 'The New Starling Athletic Club Of The Bronx', 'restaurant_id': '40364956', 'countrycode': 'US'}, {'_id': ObjectId('5eb3d668b31de5d588f4297f'), 'address': {'building': '67', 'coord': [-74.0707363, 40.59321569999999], 'street': 'Olympia Boulevard', 'zipcode': '10305'}, 'borough': 'Staten Island', 'cuisine': 'Italian', 'grades': [{'date': datetime.datetime(2014, 4, 24, 0, 0), 'grade': 'A', 'score': 13}, {'date': datetime.datetime(2013, 4, 4, 0, 0), 'grade': 'A', 'score': 2}, {'date': datetime.datetime(2012, 2, 2, 0, 0), 'grade': 'A', 'score': 5}, {'date': datetime.datetime(2011, 7, 23, 0, 0), 'grade': 'A', 'score': 11}], 'name': 'Crystal Room', 'restaurant_id': '40365013', 'countrycode': 'US'}, {'_id': ObjectId('5eb3d668b31de5d588f42980'), 'address': {'building': '390', 'coord': [-74.07444319999999, 40.6096914], 'street': 'Hylan Boulevard', 'zipcode': '10305'}, 'borough': 'Staten Island', 'cuisine': 'American', 'grades': [{'date': datetime.datetime(2014, 6, 21, 0, 0), 'grade': 'A', 'score': 9}, {'date': datetime.datetime(2013, 6, 15, 0, 0), 'grade': 'A', 'score': 13}, {'date': datetime.datetime(2012, 8, 30, 0, 0), 'grade': 'A', 'score': 10}, {'date': datetime.datetime(2011, 10, 7, 0, 0), 'grade': 'B', 'score': 20}], 'name': \"Labetti'S Post # 2159\", 'restaurant_id': '40365022', 'countrycode': 'US'}, {'_id': ObjectId('5eb3d668b31de5d588f42981'), 'address': {'building': '6736', 'coord': [-74.2274942, 40.5071996], 'street': 'Hylan Boulevard', 'zipcode': '10309'}, 'borough': 'Staten Island', 'cuisine': 'American', 'grades': [{'date': datetime.datetime(2014, 8, 13, 0, 0), 'grade': 'A', 'score': 3}, {'date': datetime.datetime(2013, 8, 20, 0, 0), 'grade': 'B', 'score': 19}, {'date': datetime.datetime(2012, 6, 18, 0, 0), 'grade': 'A', 'score': 6}], 'name': 'South Shore Swimming Club', 'restaurant_id': '40365120', 'countrycode': 'US'}, {'_id': ObjectId('5eb3d668b31de5d588f42982'), 'address': {'building': '30-13', 'coord': [-73.9151096, 40.763377], 'street': 'Steinway Street', 'zipcode': '11103'}, 'borough': 'Queens', 'cuisine': 'Pizza', 'grades': [{'date': datetime.datetime(2014, 10, 6, 0, 0), 'grade': 'A', 'score': 2}, {'date': datetime.datetime(2013, 10, 10, 0, 0), 'grade': 'A', 'score': 12}, {'date': datetime.datetime(2012, 10, 24, 0, 0), 'grade': 'A', 'score': 10}, {'date': datetime.datetime(2012, 6, 13, 0, 0), 'grade': 'A', 'score': 12}, {'date': datetime.datetime(2012, 1, 17, 0, 0), 'grade': 'A', 'score': 10}], 'name': \"Rizzo'S Fine Pizza\", 'restaurant_id': '40364920', 'countrycode': 'US'}, {'_id': ObjectId('5eb3d668b31de5d588f42983'), 'address': {'building': '225', 'coord': [-73.96485799999999, 40.761899], 'street': 'East   60 Street', 'zipcode': '10022'}, 'borough': 'Manhattan', 'cuisine': 'American', 'grades': [{'date': datetime.datetime(2014, 8, 11, 0, 0), 'grade': 'A', 'score': 10}, {'date': datetime.datetime(2014, 3, 14, 0, 0), 'grade': 'A', 'score': 3}, {'date': datetime.datetime(2013, 1, 16, 0, 0), 'grade': 'A', 'score': 10}, {'date': datetime.datetime(2012, 7, 12, 0, 0), 'grade': 'A', 'score': 9}], 'name': 'Serendipity 3', 'restaurant_id': '40364863', 'countrycode': 'US'}, {'_id': ObjectId('5eb3d668b31de5d588f42984'), 'address': {'building': '1', 'coord': [-73.9727638, 40.588853], 'street': 'Bouck Court', 'zipcode': '11223'}, 'borough': 'Brooklyn', 'cuisine': 'American', 'grades': [{'date': datetime.datetime(2014, 12, 10, 0, 0), 'grade': 'A', 'score': 2}, {'date': datetime.datetime(2014, 6, 25, 0, 0), 'grade': 'A', 'score': 9}, {'date': datetime.datetime(2013, 10, 23, 0, 0), 'grade': 'C', 'score': 28}, {'date': datetime.datetime(2013, 3, 21, 0, 0), 'grade': 'C', 'score': 29}, {'date': datetime.datetime(2012, 6, 15, 0, 0), 'grade': 'A', 'score': 10}], 'name': 'Shell Lanes', 'restaurant_id': '40365043', 'countrycode': 'US'}, {'_id': ObjectId('5eb3d668b31de5d588f42985'), 'address': {'building': '4035', 'coord': [-73.9395182, 40.8422945], 'street': 'Broadway', 'zipcode': '10032'}, 'borough': 'Manhattan', 'cuisine': 'Pizza', 'grades': [{'date': datetime.datetime(2014, 2, 10, 0, 0), 'grade': 'A', 'score': 10}, {'date': datetime.datetime(2013, 2, 4, 0, 0), 'grade': 'A', 'score': 10}, {'date': datetime.datetime(2012, 1, 4, 0, 0), 'grade': 'A', 'score': 6}, {'date': datetime.datetime(2011, 9, 15, 0, 0), 'grade': 'C', 'score': 60}], 'name': 'Como Pizza', 'restaurant_id': '40365280', 'countrycode': 'US'}, {'_id': ObjectId('5eb3d668b31de5d588f42986'), 'address': {'building': '331', 'coord': [-74.0037823, 40.7380122], 'street': 'West    4 Street', 'zipcode': '10014'}, 'borough': 'Manhattan', 'cuisine': 'American', 'grades': [{'date': datetime.datetime(2014, 11, 17, 0, 0), 'grade': 'A', 'score': 12}, {'date': datetime.datetime(2014, 6, 27, 0, 0), 'grade': 'A', 'score': 5}, {'date': datetime.datetime(2013, 5, 15, 0, 0), 'grade': 'A', 'score': 4}, {'date': datetime.datetime(2012, 5, 9, 0, 0), 'grade': 'A', 'score': 12}], 'name': 'Corner Bistro', 'restaurant_id': '40365166', 'countrycode': 'US'}, {'_id': ObjectId('5eb3d668b31de5d588f42987'), 'address': {'building': '15', 'coord': [-73.9896713, 40.7287978], 'street': 'East    7 Street', 'zipcode': '10003'}, 'borough': 'Manhattan', 'cuisine': 'Irish', 'grades': [{'date': datetime.datetime(2014, 6, 7, 0, 0), 'grade': 'A', 'score': 8}, {'date': datetime.datetime(2014, 1, 9, 0, 0), 'grade': 'A', 'score': 10}, {'date': datetime.datetime(2013, 6, 12, 0, 0), 'grade': 'A', 'score': 8}, {'date': datetime.datetime(2012, 5, 21, 0, 0), 'grade': 'A', 'score': 13}, {'date': datetime.datetime(2012, 1, 11, 0, 0), 'grade': 'A', 'score': 9}, {'date': datetime.datetime(2011, 8, 11, 0, 0), 'grade': 'B', 'score': 16}], 'name': \"Mcsorley'S Old Ale House\", 'restaurant_id': '40365075', 'countrycode': 'US'}, {'_id': ObjectId('5eb3d668b31de5d588f42988'), 'address': {'building': '93', 'coord': [-73.99950489999999, 40.7169224], 'street': 'Baxter Street', 'zipcode': '10013'}, 'borough': 'Manhattan', 'cuisine': 'Italian', 'grades': [{'date': datetime.datetime(2014, 12, 15, 0, 0), 'grade': 'A', 'score': 9}, {'date': datetime.datetime(2013, 12, 6, 0, 0), 'grade': 'A', 'score': 10}, {'date': datetime.datetime(2012, 10, 23, 0, 0), 'grade': 'A', 'score': 12}, {'date': datetime.datetime(2012, 6, 4, 0, 0), 'grade': 'A', 'score': 11}, {'date': datetime.datetime(2012, 1, 12, 0, 0), 'grade': 'A', 'score': 13}], 'name': 'Forlinis Restaurant', 'restaurant_id': '40365098', 'countrycode': 'US'}, {'_id': ObjectId('5eb3d668b31de5d588f42989'), 'address': {'building': '1616', 'coord': [-73.952449, 40.776325], 'street': '2 Avenue', 'zipcode': '10028'}, 'borough': 'Manhattan', 'cuisine': 'Irish', 'grades': [{'date': datetime.datetime(2014, 2, 28, 0, 0), 'grade': 'A', 'score': 2}, {'date': datetime.datetime(2013, 8, 30, 0, 0), 'grade': 'A', 'score': 7}, {'date': datetime.datetime(2012, 8, 27, 0, 0), 'grade': 'A', 'score': 7}, {'date': datetime.datetime(2011, 9, 14, 0, 0), 'grade': 'A', 'score': 9}], 'name': \"Dorrian'S Red Hand Restaurant\", 'restaurant_id': '40365239', 'countrycode': 'US'}, {'_id': ObjectId('5eb3d668b31de5d588f4298a'), 'address': {'building': '3', 'coord': [-73.97557069999999, 40.7596796], 'street': 'East   52 Street', 'zipcode': '10022'}, 'borough': 'Manhattan', 'cuisine': 'French', 'grades': [{'date': datetime.datetime(2014, 4, 9, 0, 0), 'grade': 'A', 'score': 10}, {'date': datetime.datetime(2013, 3, 5, 0, 0), 'grade': 'A', 'score': 9}, {'date': datetime.datetime(2012, 2, 2, 0, 0), 'grade': 'A', 'score': 13}], 'name': 'La Grenouille', 'restaurant_id': '40365264', 'countrycode': 'US'}, {'_id': ObjectId('5eb3d668b31de5d588f4298b'), 'address': {'building': '103', 'coord': [-74.001043, 40.729795], 'street': 'Macdougal Street', 'zipcode': '10012'}, 'borough': 'Manhattan', 'cuisine': 'Mexican', 'grades': [{'date': datetime.datetime(2014, 5, 22, 0, 0), 'grade': 'A', 'score': 10}, {'date': datetime.datetime(2013, 10, 10, 0, 0), 'grade': 'A', 'score': 9}, {'date': datetime.datetime(2013, 3, 20, 0, 0), 'grade': 'A', 'score': 13}, {'date': datetime.datetime(2012, 5, 17, 0, 0), 'grade': 'B', 'score': 20}], 'name': \"Panchito'S\", 'restaurant_id': '40365348', 'countrycode': 'US'}, {'_id': ObjectId('5eb3d668b31de5d588f4298c'), 'address': {'building': '146', 'coord': [-73.9973041, 40.7188698], 'street': 'Mulberry Street', 'zipcode': '10013'}, 'borough': 'Manhattan', 'cuisine': 'Italian', 'grades': [{'date': datetime.datetime(2014, 5, 2, 0, 0), 'grade': 'A', 'score': 11}, {'date': datetime.datetime(2013, 3, 14, 0, 0), 'grade': 'A', 'score': 13}, {'date': datetime.datetime(2012, 9, 26, 0, 0), 'grade': 'A', 'score': 9}, {'date': datetime.datetime(2012, 2, 15, 0, 0), 'grade': 'A', 'score': 13}, {'date': datetime.datetime(2011, 9, 15, 0, 0), 'grade': 'A', 'score': 11}], 'name': 'Angelo Of Mulberry St.', 'restaurant_id': '40365293', 'countrycode': 'US'}, {'_id': ObjectId('5eb3d668b31de5d588f4298d'), 'address': {'building': '7201', 'coord': [-74.0166091, 40.6284767], 'street': '8 Avenue', 'zipcode': '11228'}, 'borough': 'Brooklyn', 'cuisine': 'Italian', 'grades': [{'date': datetime.datetime(2014, 12, 4, 0, 0), 'grade': 'A', 'score': 11}, {'date': datetime.datetime(2014, 2, 19, 0, 0), 'grade': 'A', 'score': 10}, {'date': datetime.datetime(2013, 7, 9, 0, 0), 'grade': 'A', 'score': 9}, {'date': datetime.datetime(2012, 6, 6, 0, 0), 'grade': 'A', 'score': 10}, {'date': datetime.datetime(2011, 12, 19, 0, 0), 'grade': 'A', 'score': 12}, {'date': datetime.datetime(2024, 5, 17, 12, 44, 51, 394000), 'score': 'asdfasdfasdfasdfasdf', 'grade': 'sadfasdfasdfasdf'}, {'date': datetime.datetime(2024, 5, 17, 13, 48, 52, 836000), 'score': 'sadfasdfasd', 'grade': '<fsdafasdfas'}], 'name': 'New Corner', 'restaurant_id': '40365355', 'countrycode': 'US'}]\n",
      "es gibt mehrere einträge\n",
      "welcher möchten sie?\n"
     ]
    }
   ],
   "execution_count": 15
  },
  {
   "metadata": {},
   "cell_type": "markdown",
   "source": "4. Connection-String",
   "id": "ebc47554a731078b"
  },
  {
   "metadata": {},
   "cell_type": "markdown",
   "source": [
    "Umgebungsvariabel Setzen\n",
    "export MONGO_CONNECTION_STRING=\"mongodb://localhost:27017/\"\n",
    "ins bashprofile schreiben"
   ],
   "id": "548b95a795366288"
  },
  {
   "metadata": {
    "ExecuteTime": {
     "end_time": "2024-05-31T10:23:50.366495Z",
     "start_time": "2024-05-31T10:23:50.356242Z"
    }
   },
   "cell_type": "code",
   "source": [
    "import os\n",
    "from pymongo import MongoClient\n",
    "\n",
    "def connect_to_database():\n",
    "    connection_string = os.getenv('MONGO_CONNECTION_STRING')\n",
    "    print(connection_string)\n",
    "    if connection_string is None:\n",
    "        print(\"Die Umgebungsvariable 'MONGO_CONNECTION_STRING' ist nicht gesetzt.\")\n",
    "        return\n",
    "\n",
    "    try:\n",
    "     return MongoClient(connection_string)\n",
    "    \n",
    "        \n",
    "    except Exception as e:\n",
    "        print(\"Fehler bei der Verbindung zur Datenbank:\", e)\n",
    "\n",
    "connect_to_database().list_database_names()\n"
   ],
   "id": "dc1799c25daf3d6c",
   "outputs": [
    {
     "name": "stdout",
     "output_type": "stream",
     "text": [
      "mongodb://localhost:27017/\n"
     ]
    },
    {
     "data": {
      "text/plain": [
       "['admin',\n",
       " 'cloud',\n",
       " 'config',\n",
       " 'files',\n",
       " 'formum',\n",
       " 'hallo',\n",
       " 'local',\n",
       " 'media',\n",
       " 'photo_album',\n",
       " 'power',\n",
       " 'restaurant',\n",
       " 'shop',\n",
       " 'space',\n",
       " 'stundenplan',\n",
       " 'test',\n",
       " 'traffic']"
      ]
     },
     "execution_count": 16,
     "metadata": {},
     "output_type": "execute_result"
    }
   ],
   "execution_count": 16
  },
  {
   "metadata": {},
   "cell_type": "markdown",
   "source": "5. Power Statistic",
   "id": "a48e3fc079dbdcbf"
  },
  {
   "metadata": {
    "ExecuteTime": {
     "end_time": "2024-05-31T10:23:51.555300Z",
     "start_time": "2024-05-31T10:23:51.552318Z"
    }
   },
   "cell_type": "code",
   "source": [
    "from datetime import datetime\n",
    "import psutil\n",
    "\n",
    "class Power:\n",
    "    def __init__(self, cpu_percent=None, ram_total=None, ram_used=None, timestamp=None, _id=None):\n",
    "        if cpu_percent is None:\n",
    "            self.cpu_percent = psutil.cpu_percent(interval=1)\n",
    "        else:\n",
    "            self.cpu_percent = cpu_percent\n",
    "            \n",
    "        ram = psutil.virtual_memory()\n",
    "        if ram_total is None:\n",
    "            self.ram_total =  ram.total / (1024 ** 2)\n",
    "        else:\n",
    "            self.ram_total = ram_total\n",
    "            \n",
    "        if ram_used is None:\n",
    "            self.ram_used = ram.used / (1024 ** 2)\n",
    "        else:\n",
    "            self.ram_used = ram_used\n",
    "            \n",
    "        self.timestamp = timestamp if timestamp else datetime.now()\n",
    "        if _id is not None:\n",
    "            self._id = _id"
   ],
   "id": "ad2e98f320c2f2cf",
   "outputs": [],
   "execution_count": 17
  },
  {
   "metadata": {
    "ExecuteTime": {
     "end_time": "2024-05-31T10:23:55.637390Z",
     "start_time": "2024-05-31T10:23:52.117338Z"
    }
   },
   "cell_type": "code",
   "source": [
    "import psutil\n",
    "import time\n",
    "collection = connect_to_database().get_database('power').get_collection('power')\n",
    "while True:\n",
    "        \n",
    "        power = Power()\n",
    "        print(power.__dict__)\n",
    "        collection.insert_one(power.__dict__)\n",
    "        if collection.count_documents({}) > 10000:\n",
    "            oldest_log = collection.find_one(sort=[(\"timestamp\", 1)])\n",
    "            collection.delete_one({\"_id\": oldest_log[\"_id\"]})\n",
    "        \n",
    "        time.sleep(1)"
   ],
   "id": "2c1373b2c9b3c2ad",
   "outputs": [
    {
     "name": "stdout",
     "output_type": "stream",
     "text": [
      "mongodb://localhost:27017/\n",
      "{'cpu_percent': 27.4, 'ram_total': 16384.0, 'ram_used': 5090.609375, 'timestamp': datetime.datetime(2024, 5, 31, 12, 23, 53, 123116)}\n",
      "{'cpu_percent': 18.1, 'ram_total': 16384.0, 'ram_used': 5113.203125, 'timestamp': datetime.datetime(2024, 5, 31, 12, 23, 55, 150130)}\n"
     ]
    },
    {
     "ename": "KeyboardInterrupt",
     "evalue": "",
     "output_type": "error",
     "traceback": [
      "\u001B[0;31m---------------------------------------------------------------------------\u001B[0m",
      "\u001B[0;31mKeyboardInterrupt\u001B[0m                         Traceback (most recent call last)",
      "Cell \u001B[0;32mIn[18], line 13\u001B[0m\n\u001B[1;32m     10\u001B[0m     oldest_log \u001B[38;5;241m=\u001B[39m collection\u001B[38;5;241m.\u001B[39mfind_one(sort\u001B[38;5;241m=\u001B[39m[(\u001B[38;5;124m\"\u001B[39m\u001B[38;5;124mtimestamp\u001B[39m\u001B[38;5;124m\"\u001B[39m, \u001B[38;5;241m1\u001B[39m)])\n\u001B[1;32m     11\u001B[0m     collection\u001B[38;5;241m.\u001B[39mdelete_one({\u001B[38;5;124m\"\u001B[39m\u001B[38;5;124m_id\u001B[39m\u001B[38;5;124m\"\u001B[39m: oldest_log[\u001B[38;5;124m\"\u001B[39m\u001B[38;5;124m_id\u001B[39m\u001B[38;5;124m\"\u001B[39m]})\n\u001B[0;32m---> 13\u001B[0m \u001B[43mtime\u001B[49m\u001B[38;5;241;43m.\u001B[39;49m\u001B[43msleep\u001B[49m\u001B[43m(\u001B[49m\u001B[38;5;241;43m1\u001B[39;49m\u001B[43m)\u001B[49m\n",
      "\u001B[0;31mKeyboardInterrupt\u001B[0m: "
     ]
    }
   ],
   "execution_count": 18
  },
  {
   "metadata": {},
   "cell_type": "markdown",
   "source": "",
   "id": "c743073222a1ca0e"
  },
  {
   "metadata": {
    "ExecuteTime": {
     "end_time": "2024-05-31T10:23:55.638217Z",
     "start_time": "2024-05-31T10:23:55.638160Z"
    }
   },
   "cell_type": "code",
   "source": [
    "import matplotlib.pyplot as plt\n",
    "\n",
    "powerlist = []\n",
    "for power in list(collection.find()):\n",
    "    powerlist.append(Power(**power))\n",
    "\n",
    "timestamps = [stats.timestamp for stats in powerlist]\n",
    "cpu_percents = [stats.cpu_percent for stats in powerlist]\n",
    "ram_used = [stats.ram_used for stats in powerlist]\n",
    "ram_total = [stats.ram_total for stats in powerlist]\n",
    "ram_precents = [100/stats.ram_total*stats.ram_used for stats in powerlist]\n",
    "\n",
    "plt.plot(timestamps, cpu_percents, label='CPU Usage (%)')\n",
    "plt.plot(timestamps, ram_precents, label='RAM Used (%)', linestyle='--')\n",
    "\n",
    "plt.xlabel('Timestamp')\n",
    "plt.ylabel('Usage')\n",
    "plt.title('System Stats Over Time')\n",
    "plt.legend()\n",
    "plt.grid(True)\n",
    "\n",
    "plt.gcf().autofmt_xdate()\n",
    "plt.show()"
   ],
   "id": "7779b2961d189c4c",
   "outputs": [],
   "execution_count": null
  },
  {
   "metadata": {},
   "cell_type": "markdown",
   "source": "6. DAO",
   "id": "75208f4dd9a58804"
  },
  {
   "metadata": {
    "ExecuteTime": {
     "end_time": "2024-05-24T10:32:27.373614Z",
     "start_time": "2024-05-24T10:32:27.371421Z"
    }
   },
   "cell_type": "code",
   "source": [
    "class Room():\n",
    "    def __init__(self, name, seats, is_reservable, _id = None):\n",
    "        if(_id is not None):\n",
    "            self._id = _id\n",
    "        self.name = name\n",
    "        self.seats = seats\n",
    "        self.is_reservable = is_reservable"
   ],
   "id": "781f8478ff63f8a5",
   "outputs": [],
   "execution_count": 27
  },
  {
   "metadata": {
    "ExecuteTime": {
     "end_time": "2024-05-24T10:32:28.170851Z",
     "start_time": "2024-05-24T10:32:28.167611Z"
    }
   },
   "cell_type": "code",
   "source": [
    "from pymongo import MongoClient\n",
    "\n",
    "class Dao_room():\n",
    "    def __init__(self, connection_string):\n",
    "        self.connection_string = connection_string\n",
    "        self.col = MongoClient(connection_string)[\"buildings\"][\"rooms\"]\n",
    "\n",
    "    def create(self, room):\n",
    "        self.col.insert_one(room.__dict__)\n",
    "\n",
    "    def read(self):\n",
    "        room = Room(**self.col.find_one())\n",
    "        return room\n",
    "    \n",
    "    def update(self, room):\n",
    "        self.col.update_one({\"_id\": room._id}, {\"$set\": room.__dict__})\n",
    "    \n",
    "    def delete(self, room):\n",
    "        return self.col.delete_one({\"_id\": room._id})"
   ],
   "id": "cb5301de42b19bff",
   "outputs": [],
   "execution_count": 28
  },
  {
   "metadata": {},
   "cell_type": "code",
   "outputs": [],
   "execution_count": null,
   "source": "",
   "id": "4a40b06ee6e8e1cb"
  },
  {
   "metadata": {
    "ExecuteTime": {
     "end_time": "2024-05-24T10:32:29.284051Z",
     "start_time": "2024-05-24T10:32:29.279831Z"
    }
   },
   "cell_type": "code",
   "source": "db = connect_to_database()['jokes']",
   "id": "1540e5071db7ece1",
   "outputs": [
    {
     "name": "stdout",
     "output_type": "stream",
     "text": [
      "mongodb://localhost:27017/\n"
     ]
    }
   ],
   "execution_count": 29
  },
  {
   "metadata": {
    "ExecuteTime": {
     "end_time": "2024-05-24T10:32:29.756585Z",
     "start_time": "2024-05-24T10:32:29.754546Z"
    }
   },
   "cell_type": "code",
   "source": [
    "class Joke():\n",
    "    def __init__(self, text, category, author, _id = None):\n",
    "        if _id is not None:\n",
    "            self._id = _id\n",
    "        self.text = text\n",
    "        self.category = category\n",
    "        self.author = author"
   ],
   "id": "922b2b2a1d4affe5",
   "outputs": [],
   "execution_count": 30
  },
  {
   "metadata": {
    "ExecuteTime": {
     "end_time": "2024-05-24T10:32:30.242891Z",
     "start_time": "2024-05-24T10:32:30.240311Z"
    }
   },
   "cell_type": "code",
   "source": [
    "from pymongo import MongoClient\n",
    "\n",
    "class Dao_joke():\n",
    "    def __init__(self, connection_string):\n",
    "        self.connection_string = connection_string\n",
    "        self.col = MongoClient(connection_string)[\"jokes\"][\"jokes\"]\n",
    "\n",
    "    def insert(self, joke):\n",
    "        self.col.insert_one(joke.__dict__)\n",
    "\n",
    "    def get_category(self, category):\n",
    "        joke = Joke(**self.col.find_one({\"category\": category}))\n",
    "        return joke\n",
    "    \n",
    "    def delete(self, _id):\n",
    "        return self.col.delete_one({\"_id\": _id})"
   ],
   "id": "6e5ab694f9a1c933",
   "outputs": [],
   "execution_count": 31
  },
  {
   "metadata": {},
   "cell_type": "markdown",
   "source": "7. Files",
   "id": "e1b0c7cac961b962"
  },
  {
   "metadata": {
    "ExecuteTime": {
     "end_time": "2024-05-24T11:58:14.974718Z",
     "start_time": "2024-05-24T11:58:09.816389Z"
    }
   },
   "cell_type": "code",
   "source": [
    "from pymongo import MongoClient\n",
    "import gridfs\n",
    "import os\n",
    "\n",
    "client = MongoClient('mongodb://localhost:27017/')\n",
    "db = client['files']\n",
    "fs = gridfs.GridFS(db)\n",
    "\n",
    "path = input(\"File: \")\n",
    "\n",
    "# Save\n",
    "with open(path, 'rb') as file:\n",
    "    file_id = fs.put(file, filename=os.path.basename(path))\n",
    "print(\"File saved\")\n",
    "\n",
    "\n",
    "# Read\n",
    "file = fs.get(file_id)\n",
    "restore_path = os.path.join(\".\", file.filename)\n",
    "\n",
    "data = fs.get(file_id).read()\n",
    "with open(\"Hallo.md\", 'wb') as file:\n",
    "    file.write(data)\n",
    "print(\"File restored\")\n"
   ],
   "id": "d790d8f9a7b290fe",
   "outputs": [
    {
     "name": "stdout",
     "output_type": "stream",
     "text": [
      "File saved\n",
      "File restored\n"
     ]
    }
   ],
   "execution_count": 44
  },
  {
   "metadata": {},
   "cell_type": "markdown",
   "source": "Ich habe den Namen geändert damit ich direckt sehe das ein neues File gemacht wurde.",
   "id": "878e96f6953b4151"
  },
  {
   "metadata": {
    "ExecuteTime": {
     "end_time": "2024-05-24T12:26:40.212846Z",
     "start_time": "2024-05-24T12:26:40.060021Z"
    }
   },
   "cell_type": "code",
   "source": [
    "from pymongo import MongoClient\n",
    "import gridfs\n",
    "import os\n",
    "\n",
    "# Verbindung zur MongoDB herstellen\n",
    "client = MongoClient('mongodb://localhost:27017/')\n",
    "db = client['photo_album']  # Neue Datenbank für das Fotoalbum erstellen\n",
    "fs = gridfs.GridFS(db)  # GridFS-Objekt erstellen\n",
    "for collection_name in db.list_collection_names():\n",
    "    db.drop_collection(collection_name)\n",
    "def add_photo_to_album(photo_path, album_name):\n",
    "    # Foto zum Fotoalbum hinzufügen\n",
    "    with open(photo_path, 'rb') as file:\n",
    "        photo_id = fs.put(file, filename=os.path.basename(photo_path), metadata={'album': album_name}, collection_name=album_name)\n",
    "        print(photo_id)\n",
    "    print(\"Foto zum Album {} hinzugefügt\".format(album_name))\n",
    "\n",
    "def get_photos_from_album(album_name, path):\n",
    "    # Fotos aus dem Fotoalbum abrufen\n",
    "    photos = fs.find({'metadata.album': album_name})\n",
    "    album_dir = os.path.join(path, album_name)\n",
    "    os.makedirs(album_dir, exist_ok=True)\n",
    "    for photo in photos:\n",
    "        data = photo.read()\n",
    "        with open(os.path.join(album_dir, photo.filename), 'wb') as file:\n",
    "            file.write(data)\n",
    "        print(\"Foto {} aus Album {} heruntergeladen\".format(photo.filename, album_name))\n",
    "\n",
    "# Beispielverwendung\n",
    "add_photo_to_album(\"foto-album/ai-generated-8700383_1280.jpg\", \"Urlaub\")\n",
    "add_photo_to_album(\"foto-album/brown-bear-7597616_1280.jpg\", \"Urlaub\")\n",
    "add_photo_to_album(\"foto-album/cigarette-8771248_1280.png\", \"Urlaub\")\n",
    "add_photo_to_album(\"foto-album/gorilla-8760357_1280.jpg\", \"Schule\")\n",
    "add_photo_to_album(\"foto-album/one-person-8742116_1280.jpg\", \"Schule\")\n",
    "add_photo_to_album(\"foto-album/penguin-8751952_1280.jpg\", \"Schule\")\n",
    "add_photo_to_album(\"foto-album/sky-8763986_1280.jpg\", \"Urlaub\")\n",
    "get_photos_from_album(\"Schule\", 'herunterladen')"
   ],
   "id": "1f90f8a80b3b329b",
   "outputs": [
    {
     "name": "stdout",
     "output_type": "stream",
     "text": [
      "665087807e91617616cd32eb\n",
      "Foto zum Album Urlaub hinzugefügt\n",
      "665087807e91617616cd32ed\n",
      "Foto zum Album Urlaub hinzugefügt\n",
      "665087807e91617616cd32f0\n",
      "Foto zum Album Urlaub hinzugefügt\n",
      "665087807e91617616cd32f3\n",
      "Foto zum Album Schule hinzugefügt\n",
      "665087807e91617616cd32f5\n",
      "Foto zum Album Schule hinzugefügt\n",
      "665087807e91617616cd32f7\n",
      "Foto zum Album Schule hinzugefügt\n",
      "665087807e91617616cd32f9\n",
      "Foto zum Album Urlaub hinzugefügt\n",
      "Foto gorilla-8760357_1280.jpg aus Album Schule heruntergeladen\n",
      "Foto one-person-8742116_1280.jpg aus Album Schule heruntergeladen\n",
      "Foto penguin-8751952_1280.jpg aus Album Schule heruntergeladen\n"
     ]
    },
    {
     "data": {
      "text/plain": [
       "['fs.chunks', 'fs.files']"
      ]
     },
     "execution_count": 77,
     "metadata": {},
     "output_type": "execute_result"
    }
   ],
   "execution_count": 77
  },
  {
   "metadata": {},
   "cell_type": "markdown",
   "source": "8. Listen interpretieren",
   "id": "6d73ff836462bab6"
  },
  {
   "metadata": {
    "ExecuteTime": {
     "end_time": "2024-05-31T10:25:23.171021Z",
     "start_time": "2024-05-31T10:25:22.926224Z"
    }
   },
   "cell_type": "code",
   "source": [
    "from PIL import Image, ImageDraw\n",
    "\n",
    "im = Image.new(mode=\"RGB\", size=(200,200))\n",
    "\n",
    "draw = ImageDraw.Draw(im)\n",
    "draw.line([100,200, 150, 180], fill=0x00ffff, width=3)\n",
    "\n",
    "im.show()\n"
   ],
   "id": "b6b112a28cff3297",
   "outputs": [],
   "execution_count": 21
  },
  {
   "metadata": {
    "ExecuteTime": {
     "end_time": "2024-05-31T11:06:00.281707Z",
     "start_time": "2024-05-31T11:06:00.276396Z"
    }
   },
   "cell_type": "code",
   "source": [
    "def normalize_coordinates(coords, image_size):\n",
    "    normalized_coords = []\n",
    "    for x, y in coords:\n",
    "        normalized_x = int((x - min(x for x, _ in coords)) / (max(x for x, _ in coords) - min(x for x, _ in coords)) * image_size[0])\n",
    "        normalized_y = int((y - min(y for _, y in coords)) / (max(y for _, y in coords) - min(y for _, y in coords)) * image_size[1])\n",
    "        normalized_coords.append((normalized_x, normalized_y))\n",
    "    return normalized_coords"
   ],
   "id": "81e7f23f3c73179c",
   "outputs": [],
   "execution_count": 50
  },
  {
   "metadata": {
    "ExecuteTime": {
     "end_time": "2024-05-31T11:07:02.173051Z",
     "start_time": "2024-05-31T11:07:02.037152Z"
    }
   },
   "cell_type": "code",
   "source": [
    "client = MongoClient('mongodb://localhost:27017/')\n",
    "db = client[('restaurant')] \n",
    "col = db['neighborhoods']\n",
    "im = Image.new(mode=\"RGB\", size=(400, 400))\n",
    "draw = ImageDraw.Draw(im)\n",
    "coordinates = list(col.find_one()['geometry']['coordinates'][0])\n",
    "normalized_coords = normalize_coordinates(coordinates, im.size)\n",
    "draw.line(normalized_coords, fill=0x00ffff, width=3)\n",
    "im.show()"
   ],
   "id": "5c4236e4f33c8e66",
   "outputs": [],
   "execution_count": 52
  },
  {
   "metadata": {
    "ExecuteTime": {
     "end_time": "2024-05-31T11:08:14.790804Z",
     "start_time": "2024-05-31T11:08:12.885477Z"
    }
   },
   "cell_type": "code",
   "source": [
    "client = MongoClient('mongodb://localhost:27017/')\n",
    "db = client[('restaurant')] \n",
    "col = db['neighborhoods']\n",
    "im = Image.new(mode=\"RGB\", size=(200, 200))\n",
    "\n",
    "for neighborhood in col.find():\n",
    "    draw = ImageDraw.Draw(im)\n",
    "    normalized_coords = normalize_coordinates(neighborhood['geometry']['coordinates'][0], im.size)\n",
    "    draw.line(normalized_coords, fill=0x00ffff, width=3)\n",
    "    im.show()"
   ],
   "id": "2edaf4a65170bd0b",
   "outputs": [
    {
     "ename": "ValueError",
     "evalue": "too many values to unpack (expected 2)",
     "output_type": "error",
     "traceback": [
      "\u001B[0;31m---------------------------------------------------------------------------\u001B[0m",
      "\u001B[0;31mValueError\u001B[0m                                Traceback (most recent call last)",
      "Cell \u001B[0;32mIn[55], line 8\u001B[0m\n\u001B[1;32m      6\u001B[0m \u001B[38;5;28;01mfor\u001B[39;00m neighborhood \u001B[38;5;129;01min\u001B[39;00m col\u001B[38;5;241m.\u001B[39mfind():\n\u001B[1;32m      7\u001B[0m     draw \u001B[38;5;241m=\u001B[39m ImageDraw\u001B[38;5;241m.\u001B[39mDraw(im)\n\u001B[0;32m----> 8\u001B[0m     normalized_coords \u001B[38;5;241m=\u001B[39m \u001B[43mnormalize_coordinates\u001B[49m\u001B[43m(\u001B[49m\u001B[43mneighborhood\u001B[49m\u001B[43m[\u001B[49m\u001B[38;5;124;43m'\u001B[39;49m\u001B[38;5;124;43mgeometry\u001B[39;49m\u001B[38;5;124;43m'\u001B[39;49m\u001B[43m]\u001B[49m\u001B[43m[\u001B[49m\u001B[38;5;124;43m'\u001B[39;49m\u001B[38;5;124;43mcoordinates\u001B[39;49m\u001B[38;5;124;43m'\u001B[39;49m\u001B[43m]\u001B[49m\u001B[43m[\u001B[49m\u001B[38;5;241;43m0\u001B[39;49m\u001B[43m]\u001B[49m\u001B[43m,\u001B[49m\u001B[43m \u001B[49m\u001B[43mim\u001B[49m\u001B[38;5;241;43m.\u001B[39;49m\u001B[43msize\u001B[49m\u001B[43m)\u001B[49m\n\u001B[1;32m      9\u001B[0m     draw\u001B[38;5;241m.\u001B[39mline(normalized_coords, fill\u001B[38;5;241m=\u001B[39m\u001B[38;5;241m0x00ffff\u001B[39m, width\u001B[38;5;241m=\u001B[39m\u001B[38;5;241m3\u001B[39m)\n\u001B[1;32m     10\u001B[0m     im\u001B[38;5;241m.\u001B[39mshow()\n",
      "Cell \u001B[0;32mIn[50], line 3\u001B[0m, in \u001B[0;36mnormalize_coordinates\u001B[0;34m(coords, image_size)\u001B[0m\n\u001B[1;32m      1\u001B[0m \u001B[38;5;28;01mdef\u001B[39;00m \u001B[38;5;21mnormalize_coordinates\u001B[39m(coords, image_size):\n\u001B[1;32m      2\u001B[0m     normalized_coords \u001B[38;5;241m=\u001B[39m []\n\u001B[0;32m----> 3\u001B[0m     \u001B[38;5;28;01mfor\u001B[39;00m x, y \u001B[38;5;129;01min\u001B[39;00m coords:\n\u001B[1;32m      4\u001B[0m         normalized_x \u001B[38;5;241m=\u001B[39m \u001B[38;5;28mint\u001B[39m((x \u001B[38;5;241m-\u001B[39m \u001B[38;5;28mmin\u001B[39m(x \u001B[38;5;28;01mfor\u001B[39;00m x, _ \u001B[38;5;129;01min\u001B[39;00m coords)) \u001B[38;5;241m/\u001B[39m (\u001B[38;5;28mmax\u001B[39m(x \u001B[38;5;28;01mfor\u001B[39;00m x, _ \u001B[38;5;129;01min\u001B[39;00m coords) \u001B[38;5;241m-\u001B[39m \u001B[38;5;28mmin\u001B[39m(x \u001B[38;5;28;01mfor\u001B[39;00m x, _ \u001B[38;5;129;01min\u001B[39;00m coords)) \u001B[38;5;241m*\u001B[39m image_size[\u001B[38;5;241m0\u001B[39m])\n\u001B[1;32m      5\u001B[0m         normalized_y \u001B[38;5;241m=\u001B[39m \u001B[38;5;28mint\u001B[39m((y \u001B[38;5;241m-\u001B[39m \u001B[38;5;28mmin\u001B[39m(y \u001B[38;5;28;01mfor\u001B[39;00m _, y \u001B[38;5;129;01min\u001B[39;00m coords)) \u001B[38;5;241m/\u001B[39m (\u001B[38;5;28mmax\u001B[39m(y \u001B[38;5;28;01mfor\u001B[39;00m _, y \u001B[38;5;129;01min\u001B[39;00m coords) \u001B[38;5;241m-\u001B[39m \u001B[38;5;28mmin\u001B[39m(y \u001B[38;5;28;01mfor\u001B[39;00m _, y \u001B[38;5;129;01min\u001B[39;00m coords)) \u001B[38;5;241m*\u001B[39m image_size[\u001B[38;5;241m1\u001B[39m])\n",
      "\u001B[0;31mValueError\u001B[0m: too many values to unpack (expected 2)"
     ]
    }
   ],
   "execution_count": 55
  },
  {
   "metadata": {},
   "cell_type": "markdown",
   "source": "9.Jukebox",
   "id": "f95ed6b3b2b189f3"
  },
  {
   "metadata": {
    "ExecuteTime": {
     "end_time": "2024-05-31T11:25:40.740543Z",
     "start_time": "2024-05-31T11:25:40.737722Z"
    }
   },
   "cell_type": "code",
   "source": "",
   "id": "6b567cd60f040305",
   "outputs": [],
   "execution_count": 55
  },
  {
   "metadata": {},
   "cell_type": "code",
   "outputs": [],
   "execution_count": null,
   "source": "",
   "id": "eb4c009cc3daf5a1"
  }
 ],
 "metadata": {
  "kernelspec": {
   "display_name": "Python 3",
   "language": "python",
   "name": "python3"
  },
  "language_info": {
   "codemirror_mode": {
    "name": "ipython",
    "version": 2
   },
   "file_extension": ".py",
   "mimetype": "text/x-python",
   "name": "python",
   "nbconvert_exporter": "python",
   "pygments_lexer": "ipython2",
   "version": "2.7.6"
  }
 },
 "nbformat": 4,
 "nbformat_minor": 5
}
